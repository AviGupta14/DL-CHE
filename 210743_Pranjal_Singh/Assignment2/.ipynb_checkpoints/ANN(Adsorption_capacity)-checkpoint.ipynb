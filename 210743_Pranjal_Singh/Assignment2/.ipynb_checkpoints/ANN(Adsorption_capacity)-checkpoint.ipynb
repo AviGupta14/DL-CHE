{
 "cells": [
  {
   "cell_type": "code",
   "execution_count": 1,
   "id": "8c2420e0",
   "metadata": {},
   "outputs": [],
   "source": [
    "import numpy as np\n",
    "import torch\n",
    "import pandas as pd\n",
    "import torch.nn as nn\n",
    "import matplotlib.pyplot as plt\n",
    "from sklearn.preprocessing import StandardScaler\n",
    "from sklearn.model_selection import train_test_split\n",
    "import torch.nn.functional as F"
   ]
  },
  {
   "cell_type": "code",
   "execution_count": 2,
   "id": "a06ac16b",
   "metadata": {},
   "outputs": [],
   "source": [
    "data = pd.read_csv(r'E:\\downloads\\Adsorption_Data.csv')"
   ]
  },
  {
   "cell_type": "code",
   "execution_count": 3,
   "id": "26a481de",
   "metadata": {},
   "outputs": [
    {
     "data": {
      "text/html": [
       "<div>\n",
       "<style scoped>\n",
       "    .dataframe tbody tr th:only-of-type {\n",
       "        vertical-align: middle;\n",
       "    }\n",
       "\n",
       "    .dataframe tbody tr th {\n",
       "        vertical-align: top;\n",
       "    }\n",
       "\n",
       "    .dataframe thead th {\n",
       "        text-align: right;\n",
       "    }\n",
       "</style>\n",
       "<table border=\"1\" class=\"dataframe\">\n",
       "  <thead>\n",
       "    <tr style=\"text-align: right;\">\n",
       "      <th></th>\n",
       "      <th>C(x1)</th>\n",
       "      <th>H(x2)</th>\n",
       "      <th>N(x3)</th>\n",
       "      <th>Si(x4)</th>\n",
       "      <th>BET(x5)</th>\n",
       "      <th>Adorption Capacity(output)</th>\n",
       "    </tr>\n",
       "  </thead>\n",
       "  <tbody>\n",
       "    <tr>\n",
       "      <th>0</th>\n",
       "      <td>12.8</td>\n",
       "      <td>1.16</td>\n",
       "      <td>0.38</td>\n",
       "      <td>7.51</td>\n",
       "      <td>8.75</td>\n",
       "      <td>0.144</td>\n",
       "    </tr>\n",
       "    <tr>\n",
       "      <th>1</th>\n",
       "      <td>6.5</td>\n",
       "      <td>0.57</td>\n",
       "      <td>0.04</td>\n",
       "      <td>3.34</td>\n",
       "      <td>3.69</td>\n",
       "      <td>0.334</td>\n",
       "    </tr>\n",
       "    <tr>\n",
       "      <th>2</th>\n",
       "      <td>8.7</td>\n",
       "      <td>0.54</td>\n",
       "      <td>0.21</td>\n",
       "      <td>40.98</td>\n",
       "      <td>33.37</td>\n",
       "      <td>0.452</td>\n",
       "    </tr>\n",
       "    <tr>\n",
       "      <th>3</th>\n",
       "      <td>3.5</td>\n",
       "      <td>0.35</td>\n",
       "      <td>0.12</td>\n",
       "      <td>22.05</td>\n",
       "      <td>7.55</td>\n",
       "      <td>0.333</td>\n",
       "    </tr>\n",
       "    <tr>\n",
       "      <th>4</th>\n",
       "      <td>7.2</td>\n",
       "      <td>0.71</td>\n",
       "      <td>0.03</td>\n",
       "      <td>3.16</td>\n",
       "      <td>1.97</td>\n",
       "      <td>0.383</td>\n",
       "    </tr>\n",
       "  </tbody>\n",
       "</table>\n",
       "</div>"
      ],
      "text/plain": [
       "   C(x1)  H(x2)  N(x3)  Si(x4)  BET(x5)  Adorption Capacity(output)\n",
       "0   12.8   1.16   0.38    7.51     8.75                       0.144\n",
       "1    6.5   0.57   0.04    3.34     3.69                       0.334\n",
       "2    8.7   0.54   0.21   40.98    33.37                       0.452\n",
       "3    3.5   0.35   0.12   22.05     7.55                       0.333\n",
       "4    7.2   0.71   0.03    3.16     1.97                       0.383"
      ]
     },
     "execution_count": 3,
     "metadata": {},
     "output_type": "execute_result"
    }
   ],
   "source": [
    "data.head()"
   ]
  },
  {
   "cell_type": "code",
   "execution_count": 4,
   "id": "954d208a",
   "metadata": {},
   "outputs": [
    {
     "data": {
      "text/plain": [
       "C(x1)                         0\n",
       "H(x2)                         0\n",
       "N(x3)                         0\n",
       "Si(x4)                        0\n",
       "BET(x5)                       0\n",
       "Adorption Capacity(output)    0\n",
       "dtype: int64"
      ]
     },
     "execution_count": 4,
     "metadata": {},
     "output_type": "execute_result"
    }
   ],
   "source": [
    "data.isnull().sum()"
   ]
  },
  {
   "cell_type": "code",
   "execution_count": 5,
   "id": "74d9ebba",
   "metadata": {},
   "outputs": [
    {
     "data": {
      "text/html": [
       "<div>\n",
       "<style scoped>\n",
       "    .dataframe tbody tr th:only-of-type {\n",
       "        vertical-align: middle;\n",
       "    }\n",
       "\n",
       "    .dataframe tbody tr th {\n",
       "        vertical-align: top;\n",
       "    }\n",
       "\n",
       "    .dataframe thead th {\n",
       "        text-align: right;\n",
       "    }\n",
       "</style>\n",
       "<table border=\"1\" class=\"dataframe\">\n",
       "  <thead>\n",
       "    <tr style=\"text-align: right;\">\n",
       "      <th></th>\n",
       "      <th>C(x1)</th>\n",
       "      <th>H(x2)</th>\n",
       "      <th>N(x3)</th>\n",
       "      <th>Si(x4)</th>\n",
       "      <th>BET(x5)</th>\n",
       "      <th>Adorption Capacity(output)</th>\n",
       "    </tr>\n",
       "  </thead>\n",
       "  <tbody>\n",
       "    <tr>\n",
       "      <th>count</th>\n",
       "      <td>35.000000</td>\n",
       "      <td>35.000000</td>\n",
       "      <td>35.000000</td>\n",
       "      <td>35.000000</td>\n",
       "      <td>35.000000</td>\n",
       "      <td>35.000000</td>\n",
       "    </tr>\n",
       "    <tr>\n",
       "      <th>mean</th>\n",
       "      <td>58.794286</td>\n",
       "      <td>1.704286</td>\n",
       "      <td>0.591714</td>\n",
       "      <td>8.392000</td>\n",
       "      <td>187.250286</td>\n",
       "      <td>3.115200</td>\n",
       "    </tr>\n",
       "    <tr>\n",
       "      <th>std</th>\n",
       "      <td>31.840992</td>\n",
       "      <td>0.950239</td>\n",
       "      <td>0.549762</td>\n",
       "      <td>12.089095</td>\n",
       "      <td>241.811243</td>\n",
       "      <td>6.441286</td>\n",
       "    </tr>\n",
       "    <tr>\n",
       "      <th>min</th>\n",
       "      <td>2.500000</td>\n",
       "      <td>0.150000</td>\n",
       "      <td>0.000000</td>\n",
       "      <td>0.380000</td>\n",
       "      <td>1.970000</td>\n",
       "      <td>0.060000</td>\n",
       "    </tr>\n",
       "    <tr>\n",
       "      <th>25%</th>\n",
       "      <td>41.300000</td>\n",
       "      <td>1.180000</td>\n",
       "      <td>0.235000</td>\n",
       "      <td>3.130000</td>\n",
       "      <td>14.675000</td>\n",
       "      <td>0.444000</td>\n",
       "    </tr>\n",
       "    <tr>\n",
       "      <th>50%</th>\n",
       "      <td>69.100000</td>\n",
       "      <td>1.700000</td>\n",
       "      <td>0.350000</td>\n",
       "      <td>4.520000</td>\n",
       "      <td>96.000000</td>\n",
       "      <td>1.200000</td>\n",
       "    </tr>\n",
       "    <tr>\n",
       "      <th>75%</th>\n",
       "      <td>86.200000</td>\n",
       "      <td>2.100000</td>\n",
       "      <td>0.895000</td>\n",
       "      <td>8.155000</td>\n",
       "      <td>332.500000</td>\n",
       "      <td>2.600000</td>\n",
       "    </tr>\n",
       "    <tr>\n",
       "      <th>max</th>\n",
       "      <td>92.600000</td>\n",
       "      <td>4.100000</td>\n",
       "      <td>2.100000</td>\n",
       "      <td>58.880000</td>\n",
       "      <td>1085.000000</td>\n",
       "      <td>34.200000</td>\n",
       "    </tr>\n",
       "  </tbody>\n",
       "</table>\n",
       "</div>"
      ],
      "text/plain": [
       "           C(x1)      H(x2)      N(x3)     Si(x4)      BET(x5)  \\\n",
       "count  35.000000  35.000000  35.000000  35.000000    35.000000   \n",
       "mean   58.794286   1.704286   0.591714   8.392000   187.250286   \n",
       "std    31.840992   0.950239   0.549762  12.089095   241.811243   \n",
       "min     2.500000   0.150000   0.000000   0.380000     1.970000   \n",
       "25%    41.300000   1.180000   0.235000   3.130000    14.675000   \n",
       "50%    69.100000   1.700000   0.350000   4.520000    96.000000   \n",
       "75%    86.200000   2.100000   0.895000   8.155000   332.500000   \n",
       "max    92.600000   4.100000   2.100000  58.880000  1085.000000   \n",
       "\n",
       "       Adorption Capacity(output)  \n",
       "count                   35.000000  \n",
       "mean                     3.115200  \n",
       "std                      6.441286  \n",
       "min                      0.060000  \n",
       "25%                      0.444000  \n",
       "50%                      1.200000  \n",
       "75%                      2.600000  \n",
       "max                     34.200000  "
      ]
     },
     "execution_count": 5,
     "metadata": {},
     "output_type": "execute_result"
    }
   ],
   "source": [
    "data.describe()"
   ]
  },
  {
   "cell_type": "code",
   "execution_count": 6,
   "id": "ff8dec7e",
   "metadata": {
    "scrolled": true
   },
   "outputs": [
    {
     "data": {
      "text/html": [
       "<div>\n",
       "<style scoped>\n",
       "    .dataframe tbody tr th:only-of-type {\n",
       "        vertical-align: middle;\n",
       "    }\n",
       "\n",
       "    .dataframe tbody tr th {\n",
       "        vertical-align: top;\n",
       "    }\n",
       "\n",
       "    .dataframe thead th {\n",
       "        text-align: right;\n",
       "    }\n",
       "</style>\n",
       "<table border=\"1\" class=\"dataframe\">\n",
       "  <thead>\n",
       "    <tr style=\"text-align: right;\">\n",
       "      <th></th>\n",
       "      <th>C(x1)</th>\n",
       "      <th>H(x2)</th>\n",
       "      <th>N(x3)</th>\n",
       "      <th>Si(x4)</th>\n",
       "      <th>BET(x5)</th>\n",
       "      <th>Adorption Capacity(output)</th>\n",
       "    </tr>\n",
       "  </thead>\n",
       "  <tbody>\n",
       "    <tr>\n",
       "      <th>0</th>\n",
       "      <td>12.8</td>\n",
       "      <td>1.16</td>\n",
       "      <td>0.38</td>\n",
       "      <td>7.51</td>\n",
       "      <td>8.75</td>\n",
       "      <td>0.144</td>\n",
       "    </tr>\n",
       "    <tr>\n",
       "      <th>1</th>\n",
       "      <td>6.5</td>\n",
       "      <td>0.57</td>\n",
       "      <td>0.04</td>\n",
       "      <td>3.34</td>\n",
       "      <td>3.69</td>\n",
       "      <td>0.334</td>\n",
       "    </tr>\n",
       "    <tr>\n",
       "      <th>2</th>\n",
       "      <td>8.7</td>\n",
       "      <td>0.54</td>\n",
       "      <td>0.21</td>\n",
       "      <td>40.98</td>\n",
       "      <td>33.37</td>\n",
       "      <td>0.452</td>\n",
       "    </tr>\n",
       "    <tr>\n",
       "      <th>3</th>\n",
       "      <td>3.5</td>\n",
       "      <td>0.35</td>\n",
       "      <td>0.12</td>\n",
       "      <td>22.05</td>\n",
       "      <td>7.55</td>\n",
       "      <td>0.333</td>\n",
       "    </tr>\n",
       "    <tr>\n",
       "      <th>4</th>\n",
       "      <td>7.2</td>\n",
       "      <td>0.71</td>\n",
       "      <td>0.03</td>\n",
       "      <td>3.16</td>\n",
       "      <td>1.97</td>\n",
       "      <td>0.383</td>\n",
       "    </tr>\n",
       "  </tbody>\n",
       "</table>\n",
       "</div>"
      ],
      "text/plain": [
       "   C(x1)  H(x2)  N(x3)  Si(x4)  BET(x5)  Adorption Capacity(output)\n",
       "0   12.8   1.16   0.38    7.51     8.75                       0.144\n",
       "1    6.5   0.57   0.04    3.34     3.69                       0.334\n",
       "2    8.7   0.54   0.21   40.98    33.37                       0.452\n",
       "3    3.5   0.35   0.12   22.05     7.55                       0.333\n",
       "4    7.2   0.71   0.03    3.16     1.97                       0.383"
      ]
     },
     "execution_count": 6,
     "metadata": {},
     "output_type": "execute_result"
    }
   ],
   "source": [
    "data.head()"
   ]
  },
  {
   "cell_type": "code",
   "execution_count": 7,
   "id": "13945095",
   "metadata": {
    "scrolled": true
   },
   "outputs": [
    {
     "data": {
      "text/html": [
       "<div>\n",
       "<style scoped>\n",
       "    .dataframe tbody tr th:only-of-type {\n",
       "        vertical-align: middle;\n",
       "    }\n",
       "\n",
       "    .dataframe tbody tr th {\n",
       "        vertical-align: top;\n",
       "    }\n",
       "\n",
       "    .dataframe thead th {\n",
       "        text-align: right;\n",
       "    }\n",
       "</style>\n",
       "<table border=\"1\" class=\"dataframe\">\n",
       "  <thead>\n",
       "    <tr style=\"text-align: right;\">\n",
       "      <th></th>\n",
       "      <th>C(x1)</th>\n",
       "      <th>H(x2)</th>\n",
       "      <th>N(x3)</th>\n",
       "      <th>Si(x4)</th>\n",
       "      <th>BET(x5)</th>\n",
       "      <th>Adorption Capacity(output)</th>\n",
       "    </tr>\n",
       "  </thead>\n",
       "  <tbody>\n",
       "    <tr>\n",
       "      <th>C(x1)</th>\n",
       "      <td>1.000000</td>\n",
       "      <td>0.661529</td>\n",
       "      <td>0.132219</td>\n",
       "      <td>-0.580041</td>\n",
       "      <td>0.440584</td>\n",
       "      <td>0.270624</td>\n",
       "    </tr>\n",
       "    <tr>\n",
       "      <th>H(x2)</th>\n",
       "      <td>0.661529</td>\n",
       "      <td>1.000000</td>\n",
       "      <td>0.014156</td>\n",
       "      <td>-0.380672</td>\n",
       "      <td>0.163708</td>\n",
       "      <td>0.001367</td>\n",
       "    </tr>\n",
       "    <tr>\n",
       "      <th>N(x3)</th>\n",
       "      <td>0.132219</td>\n",
       "      <td>0.014156</td>\n",
       "      <td>1.000000</td>\n",
       "      <td>-0.157786</td>\n",
       "      <td>-0.316263</td>\n",
       "      <td>-0.186562</td>\n",
       "    </tr>\n",
       "    <tr>\n",
       "      <th>Si(x4)</th>\n",
       "      <td>-0.580041</td>\n",
       "      <td>-0.380672</td>\n",
       "      <td>-0.157786</td>\n",
       "      <td>1.000000</td>\n",
       "      <td>-0.179075</td>\n",
       "      <td>-0.092483</td>\n",
       "    </tr>\n",
       "    <tr>\n",
       "      <th>BET(x5)</th>\n",
       "      <td>0.440584</td>\n",
       "      <td>0.163708</td>\n",
       "      <td>-0.316263</td>\n",
       "      <td>-0.179075</td>\n",
       "      <td>1.000000</td>\n",
       "      <td>0.787414</td>\n",
       "    </tr>\n",
       "    <tr>\n",
       "      <th>Adorption Capacity(output)</th>\n",
       "      <td>0.270624</td>\n",
       "      <td>0.001367</td>\n",
       "      <td>-0.186562</td>\n",
       "      <td>-0.092483</td>\n",
       "      <td>0.787414</td>\n",
       "      <td>1.000000</td>\n",
       "    </tr>\n",
       "  </tbody>\n",
       "</table>\n",
       "</div>"
      ],
      "text/plain": [
       "                               C(x1)     H(x2)     N(x3)    Si(x4)   BET(x5)  \\\n",
       "C(x1)                       1.000000  0.661529  0.132219 -0.580041  0.440584   \n",
       "H(x2)                       0.661529  1.000000  0.014156 -0.380672  0.163708   \n",
       "N(x3)                       0.132219  0.014156  1.000000 -0.157786 -0.316263   \n",
       "Si(x4)                     -0.580041 -0.380672 -0.157786  1.000000 -0.179075   \n",
       "BET(x5)                     0.440584  0.163708 -0.316263 -0.179075  1.000000   \n",
       "Adorption Capacity(output)  0.270624  0.001367 -0.186562 -0.092483  0.787414   \n",
       "\n",
       "                            Adorption Capacity(output)  \n",
       "C(x1)                                         0.270624  \n",
       "H(x2)                                         0.001367  \n",
       "N(x3)                                        -0.186562  \n",
       "Si(x4)                                       -0.092483  \n",
       "BET(x5)                                       0.787414  \n",
       "Adorption Capacity(output)                    1.000000  "
      ]
     },
     "execution_count": 7,
     "metadata": {},
     "output_type": "execute_result"
    }
   ],
   "source": [
    "cor = data.corr()\n",
    "cor"
   ]
  },
  {
   "cell_type": "code",
   "execution_count": 8,
   "id": "2c7627e8",
   "metadata": {},
   "outputs": [
    {
     "data": {
      "image/png": "[encoded data removed]",
      "text/plain": [
       "<Figure size 432x288 with 1 Axes>"
      ]
     },
     "metadata": {
      "needs_background": "light"
     },
     "output_type": "display_data"
    }
   ],
   "source": [
    "mymodel = np.poly1d(np.polyfit(data['C(x1)'], data['Adorption Capacity(output)'], 4))\n",
    "\n",
    "myline = np.linspace(0, 100, 100)\n",
    "plt.scatter(data['C(x1)'],data['Adorption Capacity(output)'])\n",
    "plt.plot(myline,mymodel(myline))\n",
    "plt.xlabel('C(x1)')\n",
    "plt.ylabel('Adorption Capacity(output)')\n",
    "plt.show()"
   ]
  },
  {
   "cell_type": "code",
   "execution_count": 9,
   "id": "baabd132",
   "metadata": {},
   "outputs": [
    {
     "data": {
      "image/png": "[encoded data removed]",
      "text/plain": [
       "<Figure size 432x288 with 1 Axes>"
      ]
     },
     "metadata": {
      "needs_background": "light"
     },
     "output_type": "display_data"
    }
   ],
   "source": [
    "mymodel = np.poly1d(np.polyfit(data['H(x2)'], data['Adorption Capacity(output)'], 4))\n",
    "\n",
    "myline = np.linspace(0, 100, 100)\n",
    "plt.scatter(data['H(x2)'],data['Adorption Capacity(output)'])\n",
    "plt.plot(myline,mymodel(myline))\n",
    "plt.xlabel('H(x2)')\n",
    "plt.ylabel('Adorption Capacity(output)')\n",
    "plt.show()"
   ]
  },
  {
   "cell_type": "code",
   "execution_count": 10,
   "id": "903e6638",
   "metadata": {},
   "outputs": [
    {
     "data": {
      "image/png": "[encoded data removed]",
      "text/plain": [
       "<Figure size 432x288 with 1 Axes>"
      ]
     },
     "metadata": {
      "needs_background": "light"
     },
     "output_type": "display_data"
    }
   ],
   "source": [
    "mymodel = np.poly1d(np.polyfit(data['N(x3)'], data['Adorption Capacity(output)'], 4))\n",
    "\n",
    "myline = np.linspace(0, 100, 100)\n",
    "plt.scatter(data['N(x3)'],data['Adorption Capacity(output)'])\n",
    "plt.plot(myline,mymodel(myline))\n",
    "plt.xlabel('N(x3)')\n",
    "plt.ylabel('Adorption Capacity(output)')\n",
    "plt.show()"
   ]
  },
  {
   "cell_type": "code",
   "execution_count": 11,
   "id": "4d0e7876",
   "metadata": {},
   "outputs": [
    {
     "data": {
      "image/png": "[encoded data removed]",
      "text/plain": [
       "<Figure size 432x288 with 1 Axes>"
      ]
     },
     "metadata": {
      "needs_background": "light"
     },
     "output_type": "display_data"
    }
   ],
   "source": [
    "mymodel = np.poly1d(np.polyfit(data['Si(x4)'], data['Adorption Capacity(output)'], 4))\n",
    "\n",
    "myline = np.linspace(0, 100, 100)\n",
    "plt.scatter(data['Si(x4)'],data['Adorption Capacity(output)'])\n",
    "plt.plot(myline,mymodel(myline))\n",
    "plt.xlabel('Si(x4)')\n",
    "plt.ylabel('Adorption Capacity(output)')\n",
    "plt.show()"
   ]
  },
  {
   "cell_type": "code",
   "execution_count": 12,
   "id": "9caf395e",
   "metadata": {},
   "outputs": [
    {
     "data": {
      "image/png": "[encoded data removed]",
      "text/plain": [
       "<Figure size 432x288 with 1 Axes>"
      ]
     },
     "metadata": {
      "needs_background": "light"
     },
     "output_type": "display_data"
    }
   ],
   "source": [
    "mymodel = np.poly1d(np.polyfit(data['BET(x5)'], data['Adorption Capacity(output)'], 4))\n",
    "\n",
    "myline = np.linspace(0, 100, 100)\n",
    "plt.scatter(data['BET(x5)'],data['Adorption Capacity(output)'])\n",
    "plt.plot(myline,mymodel(myline))\n",
    "plt.xlabel('BET(x5)')\n",
    "plt.ylabel('Adorption Capacity(output)')\n",
    "plt.show()"
   ]
  },
  {
   "cell_type": "code",
   "execution_count": 13,
   "id": "8a7dc7b3",
   "metadata": {},
   "outputs": [],
   "source": [
    "x = data.iloc[:,:5].values\n",
    "y = data.iloc[:,5:6].values"
   ]
  },
  {
   "cell_type": "code",
   "execution_count": 14,
   "id": "fb8b757b",
   "metadata": {},
   "outputs": [],
   "source": [
    "X_train,X_valid_test,Y_train,Y_valid_test = train_test_split(x,y,test_size=0.3,random_state=42)\n"
   ]
  },
  {
   "cell_type": "code",
   "execution_count": 15,
   "id": "feca1fe4",
   "metadata": {},
   "outputs": [],
   "source": [
    "X_test,X_valid,Y_test,Y_valid = train_test_split(X_valid_test,Y_valid_test,test_size=0.5,random_state=42)\n"
   ]
  },
  {
   "cell_type": "code",
   "execution_count": 16,
   "id": "78472cae",
   "metadata": {},
   "outputs": [],
   "source": [
    "scaler = StandardScaler()\n",
    "X_train = scaler.fit_transform(X_train)\n",
    "X_test = scaler.transform(X_test)\n",
    "X_valid = scaler.transform(X_valid)"
   ]
  },
  {
   "cell_type": "code",
   "execution_count": 17,
   "id": "003058c2",
   "metadata": {},
   "outputs": [],
   "source": [
    "X_train,X_test,X_valid = map(torch.tensor,(X_train,X_test,X_valid))\n",
    "Y_train,Y_test,Y_valid = map(torch.tensor,(Y_train,Y_test,Y_valid))"
   ]
  },
  {
   "cell_type": "code",
   "execution_count": 18,
   "id": "1ffe7089",
   "metadata": {},
   "outputs": [],
   "source": [
    "X_train = X_train.float()\n",
    "X_test = X_test.float()\n",
    "X_valid = X_valid.float()\n",
    "Y_train = Y_train.float()\n",
    "Y_test = Y_test.float()\n",
    "Y_valid = Y_valid.float()\n"
   ]
  },
  {
   "cell_type": "code",
   "execution_count": 19,
   "id": "87599c4b",
   "metadata": {},
   "outputs": [],
   "source": [
    "device = \"cuda\" if torch.cuda.is_available() else \"mps\" if torch.backends.mps.is_available() else \"cpu\""
   ]
  },
  {
   "cell_type": "markdown",
   "id": "da8aa058",
   "metadata": {},
   "source": [
    "# Model1\n"
   ]
  },
  {
   "cell_type": "code",
   "execution_count": 20,
   "id": "78dee867",
   "metadata": {},
   "outputs": [
    {
     "data": {
      "text/plain": [
       "Sequential(\n",
       "  (0): Linear(in_features=5, out_features=64, bias=True)\n",
       "  (1): ReLU()\n",
       "  (2): Linear(in_features=64, out_features=32, bias=True)\n",
       "  (3): ReLU()\n",
       "  (4): Linear(in_features=32, out_features=16, bias=True)\n",
       "  (5): ReLU()\n",
       "  (6): Linear(in_features=16, out_features=1, bias=True)\n",
       ")"
      ]
     },
     "execution_count": 20,
     "metadata": {},
     "output_type": "execute_result"
    }
   ],
   "source": [
    "model1=nn.Sequential(\n",
    "    nn.Linear(5,64,dtype=None),\n",
    "    nn.ReLU(),\n",
    "    nn.Linear(64,32,dtype=None),\n",
    "    nn.ReLU(),\n",
    "    nn.Linear(32,16,dtype=None),\n",
    "    nn.ReLU(),\n",
    "    nn.Linear(16,1,dtype=None),\n",
    ")\n",
    "model1.to(device)"
   ]
  },
  {
   "cell_type": "code",
   "execution_count": 21,
   "id": "e636f6d9",
   "metadata": {},
   "outputs": [
    {
     "name": "stdout",
     "output_type": "stream",
     "text": [
      "tensor([-0.0778], grad_fn=<AddBackward0>)\n",
      "tensor(-0.0778, grad_fn=<SqueezeBackward0>)\n",
      "tensor([0.1440])\n",
      "torch.Size([1])\n"
     ]
    }
   ],
   "source": [
    "ypred = model1(X_train[1])\n",
    "print(ypred)\n",
    "ypred=torch.squeeze(ypred)\n",
    "print(ypred)\n",
    "print(Y_train[1])\n",
    "print(Y_train[1].shape)"
   ]
  },
  {
   "cell_type": "code",
   "execution_count": 29,
   "id": "8a1af879",
   "metadata": {
    "scrolled": true
   },
   "outputs": [
    {
     "name": "stderr",
     "output_type": "stream",
     "text": [
      "C:\\Users\\Pranjal singh\\AppData\\Local\\Temp\\ipykernel_8900\\1178880646.py:6: UserWarning: Using a target size (torch.Size([1])) that is different to the input size (torch.Size([])). This will likely lead to incorrect results due to broadcasting. Please ensure they have the same size.\n",
      "  loss=F.mse_loss(ypred,Y_train[i])\n"
     ]
    },
    {
     "name": "stdout",
     "output_type": "stream",
     "text": [
      "Total Loss=  56.85833841127654\n",
      "Total Loss=  56.608720887064315\n",
      "Total Loss=  56.60007878897401\n",
      "Total Loss=  56.597824755279966\n",
      "Total Loss=  56.59656199160963\n",
      "Total Loss=  56.595625459837414\n",
      "Total Loss=  56.59485966595821\n",
      "Total Loss=  56.594201490360625\n",
      "Total Loss=  56.59361551857243\n",
      "Total Loss=  56.59308961367545\n",
      "Total Loss=  56.59261424296225\n",
      "Total Loss=  56.5921755147477\n",
      "Total Loss=  56.591776643957324\n",
      "Total Loss=  56.59140712247851\n",
      "Total Loss=  56.59106529837785\n",
      "Total Loss=  56.59075422965301\n",
      "Total Loss=  56.59045850128556\n",
      "Total Loss=  56.590194402184956\n",
      "Total Loss=  56.589944329035156\n",
      "Total Loss=  56.58971232059412\n",
      "Total Loss=  56.58949529371845\n",
      "Total Loss=  56.58929890743457\n",
      "Total Loss=  56.58911882930746\n",
      "Total Loss=  56.588948504456006\n",
      "Total Loss=  56.58879350304293\n"
     ]
    }
   ],
   "source": [
    "optimizer=torch.optim.Adam(model1.parameters(),lr=0.01)\n",
    "for epoch in range(25):\n",
    "  totalLoss=0\n",
    "  for i in range(len(X_train)):\n",
    "    ypred=torch.squeeze(model1(X_train[i]))\n",
    "    loss=F.mse_loss(ypred,Y_train[i])\n",
    "    totalLoss+=loss.item()\n",
    "\n",
    "    optimizer.zero_grad()\n",
    "    loss.backward()\n",
    "    optimizer.step()\n",
    "  print(\"Total Loss= \", totalLoss/len(X_train))\n",
    "   "
   ]
  },
  {
   "cell_type": "markdown",
   "id": "0a9bdb19",
   "metadata": {},
   "source": [
    "# Prediction on validation data\n",
    "\n"
   ]
  },
  {
   "cell_type": "code",
   "execution_count": 30,
   "id": "b4da7e22",
   "metadata": {},
   "outputs": [
    {
     "name": "stdout",
     "output_type": "stream",
     "text": [
      "Tatal loss tensor(6.4206, grad_fn=<DivBackward0>)\n"
     ]
    },
    {
     "name": "stderr",
     "output_type": "stream",
     "text": [
      "C:\\Users\\Pranjal singh\\AppData\\Local\\Temp\\ipykernel_8900\\3210145162.py:7: UserWarning: Using a target size (torch.Size([1])) that is different to the input size (torch.Size([])). This will likely lead to incorrect results due to broadcasting. Please ensure they have the same size.\n",
      "  Loss = F.mse_loss(torch.squeeze(pred),true_value)\n"
     ]
    },
    {
     "data": {
      "text/plain": [
       "(0.0, 50.0)"
      ]
     },
     "execution_count": 30,
     "metadata": {},
     "output_type": "execute_result"
    },
    {
     "data": {
      "image/png": "[encoded data removed]",
      "text/plain": [
       "<Figure size 432x288 with 1 Axes>"
      ]
     },
     "metadata": {
      "needs_background": "light"
     },
     "output_type": "display_data"
    }
   ],
   "source": [
    "prediction=[]\n",
    "true_val=[]\n",
    "total_Loss=0\n",
    "for i in range(len(X_valid)):\n",
    "    pred=model1(X_valid[i])\n",
    "    true_value=Y_valid[i]\n",
    "    Loss = F.mse_loss(torch.squeeze(pred),true_value)\n",
    "    total_Loss+=Loss\n",
    "    prediction.append(pred.tolist())\n",
    "    true_val.append(true_value.item()) \n",
    "print(\"Tatal loss\",total_Loss/(len(X_valid)))    \n",
    "plt.scatter(true_val,prediction)\n",
    "plt.xlabel('Actual AC')\n",
    "plt.ylabel('Predicted AC')\n",
    "\n",
    "plt.plot([0,50],[0,50])\n",
    "plt.xlim(0,50)\n",
    "plt.ylim(0,50)\n",
    "    "
   ]
  },
  {
   "cell_type": "markdown",
   "id": "c76a6dd8",
   "metadata": {},
   "source": [
    "# Model2"
   ]
  },
  {
   "cell_type": "code",
   "execution_count": 31,
   "id": "557c5792",
   "metadata": {},
   "outputs": [
    {
     "data": {
      "text/plain": [
       "Sequential(\n",
       "  (0): Linear(in_features=5, out_features=128, bias=True)\n",
       "  (1): ReLU()\n",
       "  (2): Linear(in_features=128, out_features=64, bias=True)\n",
       "  (3): ReLU()\n",
       "  (4): Linear(in_features=64, out_features=40, bias=True)\n",
       "  (5): ReLU()\n",
       "  (6): Linear(in_features=40, out_features=20, bias=True)\n",
       "  (7): ReLU()\n",
       "  (8): Linear(in_features=20, out_features=1, bias=True)\n",
       ")"
      ]
     },
     "execution_count": 31,
     "metadata": {},
     "output_type": "execute_result"
    }
   ],
   "source": [
    "model2=nn.Sequential(\n",
    "    nn.Linear(5,128,dtype=None),\n",
    "    nn.ReLU(),\n",
    "    nn.Linear(128,64,dtype=None),\n",
    "    nn.ReLU(),\n",
    "    nn.Linear(64,40,dtype=None),\n",
    "    nn.ReLU(),\n",
    "    nn.Linear(40,20,dtype=None),\n",
    "    nn.ReLU(),\n",
    "    nn.Linear(20,1,dtype=None),\n",
    ")\n",
    "model2.to(device)"
   ]
  },
  {
   "cell_type": "code",
   "execution_count": 32,
   "id": "6e4d1732",
   "metadata": {},
   "outputs": [
    {
     "name": "stdout",
     "output_type": "stream",
     "text": [
      "tensor([0.0633], grad_fn=<AddBackward0>)\n",
      "tensor(0.0633, grad_fn=<SqueezeBackward0>)\n",
      "tensor([0.1440])\n",
      "torch.Size([1])\n"
     ]
    }
   ],
   "source": [
    "ypred = model2(X_train[1])\n",
    "print(ypred)\n",
    "ypred=torch.squeeze(ypred)\n",
    "print(ypred)\n",
    "print(Y_train[1])\n",
    "print(Y_train[1].shape)"
   ]
  },
  {
   "cell_type": "code",
   "execution_count": 33,
   "id": "02fb9cde",
   "metadata": {
    "scrolled": true
   },
   "outputs": [
    {
     "name": "stderr",
     "output_type": "stream",
     "text": [
      "C:\\Users\\Pranjal singh\\AppData\\Local\\Temp\\ipykernel_8900\\2169032783.py:6: UserWarning: Using a target size (torch.Size([1])) that is different to the input size (torch.Size([])). This will likely lead to incorrect results due to broadcasting. Please ensure they have the same size.\n",
      "  loss=F.mse_loss(ypred,Y_train[i])\n"
     ]
    },
    {
     "name": "stdout",
     "output_type": "stream",
     "text": [
      "Total Loss=  51.186565383031244\n",
      "Total Loss=  39.15851745974214\n",
      "Total Loss=  14.765000500375512\n",
      "Total Loss=  7.630166077210258\n",
      "Total Loss=  16.188892169004248\n",
      "Total Loss=  16.57282894201732\n",
      "Total Loss=  66.20567115906063\n",
      "Total Loss=  56.93937257056435\n",
      "Total Loss=  27.47082659540077\n",
      "Total Loss=  18.209450216032565\n",
      "Total Loss=  67.12956130451312\n",
      "Total Loss=  65.26635893116118\n",
      "Total Loss=  59.91128128041358\n",
      "Total Loss=  46.896173410117626\n",
      "Total Loss=  15.563599325716496\n",
      "Total Loss=  19.04798853956163\n",
      "Total Loss=  15.029567462275736\n",
      "Total Loss=  58.387546084918235\n",
      "Total Loss=  38.888808167733565\n",
      "Total Loss=  13.542818984094387\n",
      "Total Loss=  19.02095087369283\n",
      "Total Loss=  13.762907907832414\n",
      "Total Loss=  43.72332249581814\n",
      "Total Loss=  18.664486486441092\n",
      "Total Loss=  13.875394015184915\n"
     ]
    }
   ],
   "source": [
    "optimizer=torch.optim.Adam(model2.parameters(),lr=0.01)\n",
    "for epoch in range(25):\n",
    "  totalLoss=0\n",
    "  for i in range(len(X_train)):\n",
    "    ypred=torch.squeeze(model2(X_train[i]))\n",
    "    loss=F.mse_loss(ypred,Y_train[i])\n",
    "    totalLoss+=loss.item()\n",
    "\n",
    "    optimizer.zero_grad()\n",
    "    loss.backward()\n",
    "    optimizer.step()\n",
    "  print(\"Total Loss= \", totalLoss/(len(X_train)))\n",
    "   "
   ]
  },
  {
   "cell_type": "markdown",
   "id": "229a7997",
   "metadata": {},
   "source": [
    "# Prediction on validation data\n",
    "\n"
   ]
  },
  {
   "cell_type": "code",
   "execution_count": 34,
   "id": "582ef3af",
   "metadata": {
    "scrolled": true
   },
   "outputs": [
    {
     "name": "stdout",
     "output_type": "stream",
     "text": [
      "Tatal loss tensor(1.8597, grad_fn=<DivBackward0>)\n"
     ]
    },
    {
     "name": "stderr",
     "output_type": "stream",
     "text": [
      "C:\\Users\\Pranjal singh\\AppData\\Local\\Temp\\ipykernel_8900\\3668941989.py:7: UserWarning: Using a target size (torch.Size([1])) that is different to the input size (torch.Size([])). This will likely lead to incorrect results due to broadcasting. Please ensure they have the same size.\n",
      "  Loss = F.mse_loss(torch.squeeze(pred),true_value)\n"
     ]
    },
    {
     "data": {
      "text/plain": [
       "(0.0, 50.0)"
      ]
     },
     "execution_count": 34,
     "metadata": {},
     "output_type": "execute_result"
    },
    {
     "data": {
      "image/png": "[encoded data removed]",
      "text/plain": [
       "<Figure size 432x288 with 1 Axes>"
      ]
     },
     "metadata": {
      "needs_background": "light"
     },
     "output_type": "display_data"
    }
   ],
   "source": [
    "prediction=[]\n",
    "true_val=[]\n",
    "total_Loss=0\n",
    "for i in range(len(X_valid)):\n",
    "    pred=model2(X_valid[i])\n",
    "    true_value=Y_valid[i]\n",
    "    Loss = F.mse_loss(torch.squeeze(pred),true_value)\n",
    "    total_Loss+=Loss\n",
    "    prediction.append(pred.tolist())\n",
    "    true_val.append(true_value.item()) \n",
    "print(\"Tatal loss\",total_Loss/len(X_valid))    \n",
    "plt.scatter(true_val,prediction)\n",
    "plt.xlabel('Actual AC')\n",
    "plt.ylabel('Predicted AC')\n",
    "\n",
    "plt.plot([0,50],[0,50])\n",
    "plt.xlim(0,50)\n",
    "plt.ylim(0,50)\n",
    "    "
   ]
  },
  {
   "cell_type": "markdown",
   "id": "97155d3b",
   "metadata": {},
   "source": [
    "# So based on the validation loss, Model 1 is more accurate"
   ]
  },
  {
   "cell_type": "markdown",
   "id": "0f7d1548",
   "metadata": {},
   "source": [
    "# Chosing optimal learning rate"
   ]
  },
  {
   "cell_type": "code",
   "execution_count": 25,
   "id": "600765c2",
   "metadata": {},
   "outputs": [
    {
     "name": "stderr",
     "output_type": "stream",
     "text": [
      "C:\\Users\\Pranjal singh\\AppData\\Local\\Temp\\ipykernel_8900\\1178880646.py:6: UserWarning: Using a target size (torch.Size([1])) that is different to the input size (torch.Size([])). This will likely lead to incorrect results due to broadcasting. Please ensure they have the same size.\n",
      "  loss=F.mse_loss(ypred,Y_train[i])\n"
     ]
    },
    {
     "name": "stdout",
     "output_type": "stream",
     "text": [
      "Total Loss=  20.11128686434434\n",
      "Total Loss=  14.232570254506149\n",
      "Total Loss=  15.615597069358046\n",
      "Total Loss=  14.361432545117472\n",
      "Total Loss=  58.536793937588904\n",
      "Total Loss=  34.826076484527825\n",
      "Total Loss=  13.57585189120194\n",
      "Total Loss=  49.07347382004567\n",
      "Total Loss=  10.661866975923516\n",
      "Total Loss=  10.903987583771148\n",
      "Total Loss=  33.425713449984265\n",
      "Total Loss=  6.201912039998736\n",
      "Total Loss=  5.8196386955332855\n",
      "Total Loss=  5.1894815788089845\n",
      "Total Loss=  6.460825875158965\n",
      "Total Loss=  25.438553227722878\n",
      "Total Loss=  21.788412342701122\n",
      "Total Loss=  58.9981853006196\n",
      "Total Loss=  49.52801443922726\n",
      "Total Loss=  24.31608216262733\n",
      "Total Loss=  46.61077084600887\n",
      "Total Loss=  45.476361493165314\n",
      "Total Loss=  25.0147834922124\n",
      "Total Loss=  9.006117319047917\n",
      "Total Loss=  12.915701471632929\n"
     ]
    }
   ],
   "source": [
    "optimizer=torch.optim.Adam(model1.parameters(),lr=0.01)\n",
    "for epoch in range(25):\n",
    "  totalLoss=0\n",
    "  for i in range(len(X_train)):\n",
    "    ypred=torch.squeeze(model1(X_train[i]))\n",
    "    loss=F.mse_loss(ypred,Y_train[i])\n",
    "    totalLoss+=loss.item()\n",
    "\n",
    "    optimizer.zero_grad()\n",
    "    loss.backward()\n",
    "    optimizer.step()\n",
    "  print(\"Total Loss= \", totalLoss/len(X_train))\n",
    "   "
   ]
  },
  {
   "cell_type": "code",
   "execution_count": 26,
   "id": "bed47a00",
   "metadata": {},
   "outputs": [
    {
     "name": "stdout",
     "output_type": "stream",
     "text": [
      "Tatal loss tensor(1.3694, grad_fn=<DivBackward0>)\n"
     ]
    },
    {
     "name": "stderr",
     "output_type": "stream",
     "text": [
      "C:\\Users\\Pranjal singh\\AppData\\Local\\Temp\\ipykernel_8900\\3210145162.py:7: UserWarning: Using a target size (torch.Size([1])) that is different to the input size (torch.Size([])). This will likely lead to incorrect results due to broadcasting. Please ensure they have the same size.\n",
      "  Loss = F.mse_loss(torch.squeeze(pred),true_value)\n"
     ]
    },
    {
     "data": {
      "text/plain": [
       "(0.0, 50.0)"
      ]
     },
     "execution_count": 26,
     "metadata": {},
     "output_type": "execute_result"
    },
    {
     "data": {
      "image/png": "[encoded data removed]",
      "text/plain": [
       "<Figure size 432x288 with 1 Axes>"
      ]
     },
     "metadata": {
      "needs_background": "light"
     },
     "output_type": "display_data"
    }
   ],
   "source": [
    "prediction=[]\n",
    "true_val=[]\n",
    "total_Loss=0\n",
    "for i in range(len(X_valid)):\n",
    "    pred=model1(X_valid[i])\n",
    "    true_value=Y_valid[i]\n",
    "    Loss = F.mse_loss(torch.squeeze(pred),true_value)\n",
    "    total_Loss+=Loss\n",
    "    prediction.append(pred.tolist())\n",
    "    true_val.append(true_value.item()) \n",
    "print(\"Tatal loss\",total_Loss/(len(X_valid)))    \n",
    "plt.scatter(true_val,prediction)\n",
    "plt.xlabel('Actual AC')\n",
    "plt.ylabel('Predicted AC')\n",
    "\n",
    "plt.plot([0,50],[0,50])\n",
    "plt.xlim(0,50)\n",
    "plt.ylim(0,50)\n",
    "    "
   ]
  },
  {
   "cell_type": "code",
   "execution_count": 22,
   "id": "754d9d0b",
   "metadata": {},
   "outputs": [
    {
     "name": "stderr",
     "output_type": "stream",
     "text": [
      "C:\\Users\\Pranjal singh\\AppData\\Local\\Temp\\ipykernel_8900\\198778911.py:6: UserWarning: Using a target size (torch.Size([1])) that is different to the input size (torch.Size([])). This will likely lead to incorrect results due to broadcasting. Please ensure they have the same size.\n",
      "  loss=F.mse_loss(ypred,Y_train[i])\n"
     ]
    },
    {
     "name": "stdout",
     "output_type": "stream",
     "text": [
      "Total Loss=  71.53406340132157\n",
      "Total Loss=  70.94380781892687\n",
      "Total Loss=  70.1894504574205\n",
      "Total Loss=  68.81603697334117\n",
      "Total Loss=  66.2637892776135\n",
      "Total Loss=  62.23320102171662\n",
      "Total Loss=  56.71317276102491\n",
      "Total Loss=  50.148096702760085\n",
      "Total Loss=  43.442583392296605\n",
      "Total Loss=  37.387323105480995\n",
      "Total Loss=  32.37469861978813\n",
      "Total Loss=  28.345421836954\n",
      "Total Loss=  24.954437030134915\n",
      "Total Loss=  22.088011739813282\n",
      "Total Loss=  19.500712128108717\n",
      "Total Loss=  17.39924148990468\n",
      "Total Loss=  15.541137020131524\n",
      "Total Loss=  14.059611295702013\n",
      "Total Loss=  12.68381416469856\n",
      "Total Loss=  11.5064087461166\n",
      "Total Loss=  10.492436307972335\n",
      "Total Loss=  9.557975365511291\n",
      "Total Loss=  8.750949595590745\n",
      "Total Loss=  8.108726662526655\n",
      "Total Loss=  7.457252361260089\n"
     ]
    }
   ],
   "source": [
    "optimizer=torch.optim.Adam(model1.parameters(),lr=0.001)\n",
    "for epoch in range(25):\n",
    "  totalLoss=0\n",
    "  for i in range(len(X_train)):\n",
    "    ypred=torch.squeeze(model1(X_train[i]))\n",
    "    loss=F.mse_loss(ypred,Y_train[i])\n",
    "    totalLoss+=loss.item()\n",
    "\n",
    "    optimizer.zero_grad()\n",
    "    loss.backward()\n",
    "    optimizer.step()\n",
    "  print(\"Total Loss= \", totalLoss/len(X_train))\n",
    "   "
   ]
  },
  {
   "cell_type": "code",
   "execution_count": 23,
   "id": "fdc42a55",
   "metadata": {},
   "outputs": [
    {
     "name": "stdout",
     "output_type": "stream",
     "text": [
      "Tatal loss tensor(9.2363, grad_fn=<DivBackward0>)\n"
     ]
    },
    {
     "name": "stderr",
     "output_type": "stream",
     "text": [
      "C:\\Users\\Pranjal singh\\AppData\\Local\\Temp\\ipykernel_8900\\3210145162.py:7: UserWarning: Using a target size (torch.Size([1])) that is different to the input size (torch.Size([])). This will likely lead to incorrect results due to broadcasting. Please ensure they have the same size.\n",
      "  Loss = F.mse_loss(torch.squeeze(pred),true_value)\n"
     ]
    },
    {
     "data": {
      "text/plain": [
       "(0.0, 50.0)"
      ]
     },
     "execution_count": 23,
     "metadata": {},
     "output_type": "execute_result"
    },
    {
     "data": {
      "image/png": "[encoded data removed]",
      "text/plain": [
       "<Figure size 432x288 with 1 Axes>"
      ]
     },
     "metadata": {
      "needs_background": "light"
     },
     "output_type": "display_data"
    }
   ],
   "source": [
    "prediction=[]\n",
    "true_val=[]\n",
    "total_Loss=0\n",
    "for i in range(len(X_valid)):\n",
    "    pred=model1(X_valid[i])\n",
    "    true_value=Y_valid[i]\n",
    "    Loss = F.mse_loss(torch.squeeze(pred),true_value)\n",
    "    total_Loss+=Loss\n",
    "    prediction.append(pred.tolist())\n",
    "    true_val.append(true_value.item()) \n",
    "print(\"Tatal loss\",total_Loss/(len(X_valid)))    \n",
    "plt.scatter(true_val,prediction)\n",
    "plt.xlabel('Actual AC')\n",
    "plt.ylabel('Predicted AC')\n",
    "\n",
    "plt.plot([0,50],[0,50])\n",
    "plt.xlim(0,50)\n",
    "plt.ylim(0,50)\n",
    "    "
   ]
  },
  {
   "cell_type": "code",
   "execution_count": 27,
   "id": "6e79b943",
   "metadata": {},
   "outputs": [
    {
     "name": "stderr",
     "output_type": "stream",
     "text": [
      "C:\\Users\\Pranjal singh\\AppData\\Local\\Temp\\ipykernel_8900\\1265342112.py:6: UserWarning: Using a target size (torch.Size([1])) that is different to the input size (torch.Size([])). This will likely lead to incorrect results due to broadcasting. Please ensure they have the same size.\n",
      "  loss=F.mse_loss(ypred,Y_train[i])\n"
     ]
    },
    {
     "name": "stdout",
     "output_type": "stream",
     "text": [
      "Total Loss=  51.80031973709265\n",
      "Total Loss=  91.27538333833218\n",
      "Total Loss=  64.89302276124606\n",
      "Total Loss=  64.8137433337688\n",
      "Total Loss=  61.23090449490701\n",
      "Total Loss=  58.89476447692141\n",
      "Total Loss=  58.167200042090066\n",
      "Total Loss=  57.15212190616876\n",
      "Total Loss=  57.02042305003852\n",
      "Total Loss=  56.97650900692679\n",
      "Total Loss=  56.97405708335282\n",
      "Total Loss=  56.98718804261686\n",
      "Total Loss=  57.003920472847916\n",
      "Total Loss=  57.01946751788879\n",
      "Total Loss=  57.0323183972699\n",
      "Total Loss=  57.04236398000891\n",
      "Total Loss=  57.049982097931206\n",
      "Total Loss=  57.055664017330855\n",
      "Total Loss=  57.059884192266814\n",
      "Total Loss=  57.063007832194366\n",
      "Total Loss=  57.065334822672106\n",
      "Total Loss=  57.0670899466301\n",
      "Total Loss=  57.0684202988632\n",
      "Total Loss=  57.06944543418164\n",
      "Total Loss=  57.07026073196903\n"
     ]
    }
   ],
   "source": [
    "optimizer=torch.optim.Adam(model1.parameters(),lr=0.1)\n",
    "for epoch in range(25):\n",
    "  totalLoss=0\n",
    "  for i in range(len(X_train)):\n",
    "    ypred=torch.squeeze(model1(X_train[i]))\n",
    "    loss=F.mse_loss(ypred,Y_train[i])\n",
    "    totalLoss+=loss.item()\n",
    "\n",
    "    optimizer.zero_grad()\n",
    "    loss.backward()\n",
    "    optimizer.step()\n",
    "  print(\"Total Loss= \", totalLoss/len(X_train))\n",
    "   "
   ]
  },
  {
   "cell_type": "code",
   "execution_count": 28,
   "id": "a14989bd",
   "metadata": {},
   "outputs": [
    {
     "name": "stdout",
     "output_type": "stream",
     "text": [
      "Tatal loss tensor(6.8448, grad_fn=<DivBackward0>)\n"
     ]
    },
    {
     "name": "stderr",
     "output_type": "stream",
     "text": [
      "C:\\Users\\Pranjal singh\\AppData\\Local\\Temp\\ipykernel_8900\\3210145162.py:7: UserWarning: Using a target size (torch.Size([1])) that is different to the input size (torch.Size([])). This will likely lead to incorrect results due to broadcasting. Please ensure they have the same size.\n",
      "  Loss = F.mse_loss(torch.squeeze(pred),true_value)\n"
     ]
    },
    {
     "data": {
      "text/plain": [
       "(0.0, 50.0)"
      ]
     },
     "execution_count": 28,
     "metadata": {},
     "output_type": "execute_result"
    },
    {
     "data": {
      "image/png": "[encoded data removed]",
      "text/plain": [
       "<Figure size 432x288 with 1 Axes>"
      ]
     },
     "metadata": {
      "needs_background": "light"
     },
     "output_type": "display_data"
    }
   ],
   "source": [
    "prediction=[]\n",
    "true_val=[]\n",
    "total_Loss=0\n",
    "for i in range(len(X_valid)):\n",
    "    pred=model1(X_valid[i])\n",
    "    true_value=Y_valid[i]\n",
    "    Loss = F.mse_loss(torch.squeeze(pred),true_value)\n",
    "    total_Loss+=Loss\n",
    "    prediction.append(pred.tolist())\n",
    "    true_val.append(true_value.item()) \n",
    "print(\"Tatal loss\",total_Loss/(len(X_valid)))    \n",
    "plt.scatter(true_val,prediction)\n",
    "plt.xlabel('Actual AC')\n",
    "plt.ylabel('Predicted AC')\n",
    "\n",
    "plt.plot([0,50],[0,50])\n",
    "plt.xlim(0,50)\n",
    "plt.ylim(0,50)\n",
    "    "
   ]
  },
  {
   "cell_type": "markdown",
   "id": "9d8bbdd1",
   "metadata": {},
   "source": [
    "# So for this model and dataset 0.01 is the optimal learning rate"
   ]
  },
  {
   "cell_type": "markdown",
   "id": "7987521d",
   "metadata": {},
   "source": [
    "# Prediction on test dataset"
   ]
  },
  {
   "cell_type": "code",
   "execution_count": 24,
   "id": "fe77d3a6",
   "metadata": {
    "scrolled": true
   },
   "outputs": [
    {
     "name": "stdout",
     "output_type": "stream",
     "text": [
      "Predicted value =  [0.5084031820297241]\n",
      "corresponding true value=  1.159999966621399\n",
      "Predicted value =  [0.9431979060173035]\n",
      "corresponding true value=  0.05999999865889549\n",
      "Predicted value =  [0.7778949737548828]\n",
      "corresponding true value=  3.259999990463257\n",
      "Predicted value =  [0.8478410243988037]\n",
      "corresponding true value=  1.5499999523162842\n",
      "Predicted value =  [2.4692020416259766]\n",
      "corresponding true value=  1.440000057220459\n"
     ]
    }
   ],
   "source": [
    "prediction=[]\n",
    "true_val=[]\n",
    "for i in range(len(X_test)):\n",
    "    pred=model1(X_test[i])\n",
    "    true_value=Y_test[i]\n",
    "    prediction.append(pred.tolist())\n",
    "    true_val.append(true_value.item())\n",
    "for i in range(len(X_test)):\n",
    "    print(\"Predicted value = \",prediction[i])\n",
    "    print(\"corresponding true value= \",true_val[i])"
   ]
  }
 ],
 "metadata": {
  "kernelspec": {
   "display_name": "Python 3 (ipykernel)",
   "language": "python",
   "name": "python3"
  },
  "language_info": {
   "codemirror_mode": {
    "name": "ipython",
    "version": 3
   },
   "file_extension": ".py",
   "mimetype": "text/x-python",
   "name": "python",
   "nbconvert_exporter": "python",
   "pygments_lexer": "ipython3",
   "version": "3.9.12"
  }
 },
 "nbformat": 4,
 "nbformat_minor": 5
}
