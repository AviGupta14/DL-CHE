{
 "cells": [
  {
   "cell_type": "code",
   "execution_count": 1,
   "id": "fcfd2b4e",
   "metadata": {},
   "outputs": [],
   "source": [
    "import numpy as np\n",
    "import pandas as pd\n",
    "import torch\n",
    "import matplotlib.pyplot as plt\n",
    "import torch.nn as nn\n",
    "from torch.autograd import Variable\n",
    "import torch.nn.functional as F\n",
    "import seaborn as sns\n",
    "from sklearn.model_selection import train_test_split\n",
    "from sklearn.preprocessing import StandardScaler"
   ]
  },
  {
   "cell_type": "code",
   "execution_count": 2,
   "id": "78ce3ff5",
   "metadata": {},
   "outputs": [],
   "source": [
    "df1=pd.read_excel(\"data.xlsx\", \"Sheet1\")\n",
    "df2=pd.read_excel(\"data.xlsx\", \"Sheet2\")\n",
    "df3=pd.read_excel(\"data.xlsx\", \"Sheet3\")\n",
    "df4=pd.read_excel(\"data.xlsx\", \"Sheet4\")\n",
    "df5=pd.read_excel(\"data.xlsx\", \"Sheet5\")"
   ]
  },
  {
   "cell_type": "code",
   "execution_count": 3,
   "id": "51d1f90f",
   "metadata": {},
   "outputs": [
    {
     "data": {
      "text/plain": [
       "(47840, 5)"
      ]
     },
     "execution_count": 3,
     "metadata": {},
     "output_type": "execute_result"
    }
   ],
   "source": [
    "dataframe = pd.concat([df1, df2, df3, df4, df5], ignore_index=True, axis=0)\n",
    "dataframe.shape"
   ]
  },
  {
   "cell_type": "code",
   "execution_count": 4,
   "id": "d5f76334",
   "metadata": {},
   "outputs": [
    {
     "data": {
      "text/html": [
       "<div>\n",
       "<style scoped>\n",
       "    .dataframe tbody tr th:only-of-type {\n",
       "        vertical-align: middle;\n",
       "    }\n",
       "\n",
       "    .dataframe tbody tr th {\n",
       "        vertical-align: top;\n",
       "    }\n",
       "\n",
       "    .dataframe thead th {\n",
       "        text-align: right;\n",
       "    }\n",
       "</style>\n",
       "<table border=\"1\" class=\"dataframe\">\n",
       "  <thead>\n",
       "    <tr style=\"text-align: right;\">\n",
       "      <th></th>\n",
       "      <th>count</th>\n",
       "      <th>mean</th>\n",
       "      <th>std</th>\n",
       "      <th>min</th>\n",
       "      <th>25%</th>\n",
       "      <th>50%</th>\n",
       "      <th>75%</th>\n",
       "      <th>max</th>\n",
       "    </tr>\n",
       "  </thead>\n",
       "  <tbody>\n",
       "    <tr>\n",
       "      <th>AT</th>\n",
       "      <td>47840.0</td>\n",
       "      <td>19.651231</td>\n",
       "      <td>7.452162</td>\n",
       "      <td>1.81</td>\n",
       "      <td>13.5100</td>\n",
       "      <td>20.345</td>\n",
       "      <td>25.72</td>\n",
       "      <td>37.11</td>\n",
       "    </tr>\n",
       "    <tr>\n",
       "      <th>V</th>\n",
       "      <td>47840.0</td>\n",
       "      <td>54.305804</td>\n",
       "      <td>12.707362</td>\n",
       "      <td>25.36</td>\n",
       "      <td>41.7400</td>\n",
       "      <td>52.080</td>\n",
       "      <td>66.54</td>\n",
       "      <td>81.56</td>\n",
       "    </tr>\n",
       "    <tr>\n",
       "      <th>AP</th>\n",
       "      <td>47840.0</td>\n",
       "      <td>1013.259078</td>\n",
       "      <td>5.938535</td>\n",
       "      <td>992.89</td>\n",
       "      <td>1009.1000</td>\n",
       "      <td>1012.940</td>\n",
       "      <td>1017.26</td>\n",
       "      <td>1033.30</td>\n",
       "    </tr>\n",
       "    <tr>\n",
       "      <th>RH</th>\n",
       "      <td>47840.0</td>\n",
       "      <td>73.308978</td>\n",
       "      <td>14.599658</td>\n",
       "      <td>25.56</td>\n",
       "      <td>63.3275</td>\n",
       "      <td>74.975</td>\n",
       "      <td>84.83</td>\n",
       "      <td>100.16</td>\n",
       "    </tr>\n",
       "    <tr>\n",
       "      <th>PE</th>\n",
       "      <td>47840.0</td>\n",
       "      <td>454.365009</td>\n",
       "      <td>17.066281</td>\n",
       "      <td>420.26</td>\n",
       "      <td>439.7500</td>\n",
       "      <td>451.550</td>\n",
       "      <td>468.43</td>\n",
       "      <td>495.76</td>\n",
       "    </tr>\n",
       "  </tbody>\n",
       "</table>\n",
       "</div>"
      ],
      "text/plain": [
       "      count         mean        std     min        25%       50%      75%  \\\n",
       "AT  47840.0    19.651231   7.452162    1.81    13.5100    20.345    25.72   \n",
       "V   47840.0    54.305804  12.707362   25.36    41.7400    52.080    66.54   \n",
       "AP  47840.0  1013.259078   5.938535  992.89  1009.1000  1012.940  1017.26   \n",
       "RH  47840.0    73.308978  14.599658   25.56    63.3275    74.975    84.83   \n",
       "PE  47840.0   454.365009  17.066281  420.26   439.7500   451.550   468.43   \n",
       "\n",
       "        max  \n",
       "AT    37.11  \n",
       "V     81.56  \n",
       "AP  1033.30  \n",
       "RH   100.16  \n",
       "PE   495.76  "
      ]
     },
     "execution_count": 4,
     "metadata": {},
     "output_type": "execute_result"
    }
   ],
   "source": [
    "dataframe.describe().T"
   ]
  },
  {
   "cell_type": "code",
   "execution_count": 5,
   "id": "21041252",
   "metadata": {},
   "outputs": [],
   "source": [
    "std_PE=17.066281\n",
    "mean_PE=454.365009"
   ]
  },
  {
   "cell_type": "code",
   "execution_count": 6,
   "id": "bf2bda15",
   "metadata": {},
   "outputs": [
    {
     "name": "stdout",
     "output_type": "stream",
     "text": [
      "<class 'pandas.core.frame.DataFrame'>\n",
      "RangeIndex: 47840 entries, 0 to 47839\n",
      "Data columns (total 5 columns):\n",
      " #   Column  Non-Null Count  Dtype  \n",
      "---  ------  --------------  -----  \n",
      " 0   AT      47840 non-null  float64\n",
      " 1   V       47840 non-null  float64\n",
      " 2   AP      47840 non-null  float64\n",
      " 3   RH      47840 non-null  float64\n",
      " 4   PE      47840 non-null  float64\n",
      "dtypes: float64(5)\n",
      "memory usage: 1.8 MB\n"
     ]
    }
   ],
   "source": [
    "dataframe.info()"
   ]
  },
  {
   "cell_type": "code",
   "execution_count": 7,
   "id": "678bf60d",
   "metadata": {},
   "outputs": [
    {
     "data": {
      "text/html": [
       "<div>\n",
       "<style scoped>\n",
       "    .dataframe tbody tr th:only-of-type {\n",
       "        vertical-align: middle;\n",
       "    }\n",
       "\n",
       "    .dataframe tbody tr th {\n",
       "        vertical-align: top;\n",
       "    }\n",
       "\n",
       "    .dataframe thead th {\n",
       "        text-align: right;\n",
       "    }\n",
       "</style>\n",
       "<table border=\"1\" class=\"dataframe\">\n",
       "  <thead>\n",
       "    <tr style=\"text-align: right;\">\n",
       "      <th></th>\n",
       "      <th>AT</th>\n",
       "      <th>V</th>\n",
       "      <th>AP</th>\n",
       "      <th>RH</th>\n",
       "      <th>PE</th>\n",
       "    </tr>\n",
       "  </thead>\n",
       "  <tbody>\n",
       "    <tr>\n",
       "      <th>0</th>\n",
       "      <td>14.96</td>\n",
       "      <td>41.76</td>\n",
       "      <td>1024.07</td>\n",
       "      <td>73.17</td>\n",
       "      <td>463.26</td>\n",
       "    </tr>\n",
       "    <tr>\n",
       "      <th>1</th>\n",
       "      <td>25.18</td>\n",
       "      <td>62.96</td>\n",
       "      <td>1020.04</td>\n",
       "      <td>59.08</td>\n",
       "      <td>444.37</td>\n",
       "    </tr>\n",
       "    <tr>\n",
       "      <th>2</th>\n",
       "      <td>5.11</td>\n",
       "      <td>39.40</td>\n",
       "      <td>1012.16</td>\n",
       "      <td>92.14</td>\n",
       "      <td>488.56</td>\n",
       "    </tr>\n",
       "    <tr>\n",
       "      <th>3</th>\n",
       "      <td>20.86</td>\n",
       "      <td>57.32</td>\n",
       "      <td>1010.24</td>\n",
       "      <td>76.64</td>\n",
       "      <td>446.48</td>\n",
       "    </tr>\n",
       "    <tr>\n",
       "      <th>4</th>\n",
       "      <td>10.82</td>\n",
       "      <td>37.50</td>\n",
       "      <td>1009.23</td>\n",
       "      <td>96.62</td>\n",
       "      <td>473.90</td>\n",
       "    </tr>\n",
       "  </tbody>\n",
       "</table>\n",
       "</div>"
      ],
      "text/plain": [
       "      AT      V       AP     RH      PE\n",
       "0  14.96  41.76  1024.07  73.17  463.26\n",
       "1  25.18  62.96  1020.04  59.08  444.37\n",
       "2   5.11  39.40  1012.16  92.14  488.56\n",
       "3  20.86  57.32  1010.24  76.64  446.48\n",
       "4  10.82  37.50  1009.23  96.62  473.90"
      ]
     },
     "execution_count": 7,
     "metadata": {},
     "output_type": "execute_result"
    }
   ],
   "source": [
    "dataframe.head()"
   ]
  },
  {
   "cell_type": "code",
   "execution_count": 8,
   "id": "d3359e2f",
   "metadata": {},
   "outputs": [
    {
     "data": {
      "text/html": [
       "<div>\n",
       "<style scoped>\n",
       "    .dataframe tbody tr th:only-of-type {\n",
       "        vertical-align: middle;\n",
       "    }\n",
       "\n",
       "    .dataframe tbody tr th {\n",
       "        vertical-align: top;\n",
       "    }\n",
       "\n",
       "    .dataframe thead th {\n",
       "        text-align: right;\n",
       "    }\n",
       "</style>\n",
       "<table border=\"1\" class=\"dataframe\">\n",
       "  <thead>\n",
       "    <tr style=\"text-align: right;\">\n",
       "      <th></th>\n",
       "      <th>AT</th>\n",
       "      <th>V</th>\n",
       "      <th>AP</th>\n",
       "      <th>RH</th>\n",
       "      <th>PE</th>\n",
       "    </tr>\n",
       "  </thead>\n",
       "  <tbody>\n",
       "    <tr>\n",
       "      <th>0</th>\n",
       "      <td>-0.629513</td>\n",
       "      <td>-0.987286</td>\n",
       "      <td>1.820469</td>\n",
       "      <td>-0.009519</td>\n",
       "      <td>0.521203</td>\n",
       "    </tr>\n",
       "    <tr>\n",
       "      <th>1</th>\n",
       "      <td>0.741901</td>\n",
       "      <td>0.681038</td>\n",
       "      <td>1.141851</td>\n",
       "      <td>-0.974610</td>\n",
       "      <td>-0.585658</td>\n",
       "    </tr>\n",
       "    <tr>\n",
       "      <th>2</th>\n",
       "      <td>-1.951277</td>\n",
       "      <td>-1.173005</td>\n",
       "      <td>-0.185076</td>\n",
       "      <td>1.289826</td>\n",
       "      <td>2.003658</td>\n",
       "    </tr>\n",
       "    <tr>\n",
       "      <th>3</th>\n",
       "      <td>0.162204</td>\n",
       "      <td>0.237201</td>\n",
       "      <td>-0.508388</td>\n",
       "      <td>0.228158</td>\n",
       "      <td>-0.462023</td>\n",
       "    </tr>\n",
       "    <tr>\n",
       "      <th>4</th>\n",
       "      <td>-1.185056</td>\n",
       "      <td>-1.322525</td>\n",
       "      <td>-0.678463</td>\n",
       "      <td>1.596683</td>\n",
       "      <td>1.144654</td>\n",
       "    </tr>\n",
       "  </tbody>\n",
       "</table>\n",
       "</div>"
      ],
      "text/plain": [
       "         AT         V        AP        RH        PE\n",
       "0 -0.629513 -0.987286  1.820469 -0.009519  0.521203\n",
       "1  0.741901  0.681038  1.141851 -0.974610 -0.585658\n",
       "2 -1.951277 -1.173005 -0.185076  1.289826  2.003658\n",
       "3  0.162204  0.237201 -0.508388  0.228158 -0.462023\n",
       "4 -1.185056 -1.322525 -0.678463  1.596683  1.144654"
      ]
     },
     "execution_count": 8,
     "metadata": {},
     "output_type": "execute_result"
    }
   ],
   "source": [
    "dataframe=(dataframe-dataframe.mean())/dataframe.std()\n",
    "dataframe.head()"
   ]
  },
  {
   "cell_type": "code",
   "execution_count": 9,
   "id": "7e3bdb4a",
   "metadata": {},
   "outputs": [],
   "source": [
    "df_train, df_test = train_test_split(dataframe, test_size=0.2, random_state=50)\n",
    "df_train, df_valid = train_test_split(dataframe, test_size=0.2, random_state=50)"
   ]
  },
  {
   "cell_type": "code",
   "execution_count": 10,
   "id": "3ec1fe61",
   "metadata": {},
   "outputs": [
    {
     "data": {
      "text/html": [
       "<div>\n",
       "<style scoped>\n",
       "    .dataframe tbody tr th:only-of-type {\n",
       "        vertical-align: middle;\n",
       "    }\n",
       "\n",
       "    .dataframe tbody tr th {\n",
       "        vertical-align: top;\n",
       "    }\n",
       "\n",
       "    .dataframe thead th {\n",
       "        text-align: right;\n",
       "    }\n",
       "</style>\n",
       "<table border=\"1\" class=\"dataframe\">\n",
       "  <thead>\n",
       "    <tr style=\"text-align: right;\">\n",
       "      <th></th>\n",
       "      <th>AT</th>\n",
       "      <th>V</th>\n",
       "      <th>AP</th>\n",
       "      <th>RH</th>\n",
       "      <th>PE</th>\n",
       "    </tr>\n",
       "  </thead>\n",
       "  <tbody>\n",
       "    <tr>\n",
       "      <th>18135</th>\n",
       "      <td>0.568797</td>\n",
       "      <td>0.784128</td>\n",
       "      <td>0.018678</td>\n",
       "      <td>0.130895</td>\n",
       "      <td>-0.207720</td>\n",
       "    </tr>\n",
       "    <tr>\n",
       "      <th>30673</th>\n",
       "      <td>0.362146</td>\n",
       "      <td>-0.226310</td>\n",
       "      <td>-0.323157</td>\n",
       "      <td>0.275419</td>\n",
       "      <td>-0.528821</td>\n",
       "    </tr>\n",
       "    <tr>\n",
       "      <th>24245</th>\n",
       "      <td>-2.183424</td>\n",
       "      <td>-1.154119</td>\n",
       "      <td>-0.380410</td>\n",
       "      <td>0.541864</td>\n",
       "      <td>2.024752</td>\n",
       "    </tr>\n",
       "    <tr>\n",
       "      <th>37299</th>\n",
       "      <td>1.547037</td>\n",
       "      <td>1.159501</td>\n",
       "      <td>-0.853591</td>\n",
       "      <td>-1.615721</td>\n",
       "      <td>-0.767889</td>\n",
       "    </tr>\n",
       "    <tr>\n",
       "      <th>47071</th>\n",
       "      <td>-1.401101</td>\n",
       "      <td>-1.147823</td>\n",
       "      <td>1.057655</td>\n",
       "      <td>0.077469</td>\n",
       "      <td>1.441145</td>\n",
       "    </tr>\n",
       "  </tbody>\n",
       "</table>\n",
       "</div>"
      ],
      "text/plain": [
       "             AT         V        AP        RH        PE\n",
       "18135  0.568797  0.784128  0.018678  0.130895 -0.207720\n",
       "30673  0.362146 -0.226310 -0.323157  0.275419 -0.528821\n",
       "24245 -2.183424 -1.154119 -0.380410  0.541864  2.024752\n",
       "37299  1.547037  1.159501 -0.853591 -1.615721 -0.767889\n",
       "47071 -1.401101 -1.147823  1.057655  0.077469  1.441145"
      ]
     },
     "execution_count": 10,
     "metadata": {},
     "output_type": "execute_result"
    }
   ],
   "source": [
    "df_train.head()"
   ]
  },
  {
   "cell_type": "code",
   "execution_count": 11,
   "id": "9c7f0f2f",
   "metadata": {},
   "outputs": [
    {
     "data": {
      "text/html": [
       "<div>\n",
       "<style scoped>\n",
       "    .dataframe tbody tr th:only-of-type {\n",
       "        vertical-align: middle;\n",
       "    }\n",
       "\n",
       "    .dataframe tbody tr th {\n",
       "        vertical-align: top;\n",
       "    }\n",
       "\n",
       "    .dataframe thead th {\n",
       "        text-align: right;\n",
       "    }\n",
       "</style>\n",
       "<table border=\"1\" class=\"dataframe\">\n",
       "  <thead>\n",
       "    <tr style=\"text-align: right;\">\n",
       "      <th></th>\n",
       "      <th>AT</th>\n",
       "      <th>V</th>\n",
       "      <th>AP</th>\n",
       "      <th>RH</th>\n",
       "      <th>PE</th>\n",
       "    </tr>\n",
       "  </thead>\n",
       "  <tbody>\n",
       "    <tr>\n",
       "      <th>43479</th>\n",
       "      <td>0.776791</td>\n",
       "      <td>1.248426</td>\n",
       "      <td>-2.123264</td>\n",
       "      <td>1.272703</td>\n",
       "      <td>-1.250712</td>\n",
       "    </tr>\n",
       "    <tr>\n",
       "      <th>36070</th>\n",
       "      <td>1.271949</td>\n",
       "      <td>0.964338</td>\n",
       "      <td>-1.116282</td>\n",
       "      <td>-1.401333</td>\n",
       "      <td>-0.882149</td>\n",
       "    </tr>\n",
       "    <tr>\n",
       "      <th>39690</th>\n",
       "      <td>1.159230</td>\n",
       "      <td>0.594474</td>\n",
       "      <td>-0.233909</td>\n",
       "      <td>-0.625972</td>\n",
       "      <td>-0.944260</td>\n",
       "    </tr>\n",
       "    <tr>\n",
       "      <th>39970</th>\n",
       "      <td>-0.535580</td>\n",
       "      <td>-1.019551</td>\n",
       "      <td>-1.949821</td>\n",
       "      <td>0.887077</td>\n",
       "      <td>0.539367</td>\n",
       "    </tr>\n",
       "    <tr>\n",
       "      <th>46935</th>\n",
       "      <td>0.375565</td>\n",
       "      <td>0.744781</td>\n",
       "      <td>0.220748</td>\n",
       "      <td>0.967901</td>\n",
       "      <td>-0.592104</td>\n",
       "    </tr>\n",
       "  </tbody>\n",
       "</table>\n",
       "</div>"
      ],
      "text/plain": [
       "             AT         V        AP        RH        PE\n",
       "43479  0.776791  1.248426 -2.123264  1.272703 -1.250712\n",
       "36070  1.271949  0.964338 -1.116282 -1.401333 -0.882149\n",
       "39690  1.159230  0.594474 -0.233909 -0.625972 -0.944260\n",
       "39970 -0.535580 -1.019551 -1.949821  0.887077  0.539367\n",
       "46935  0.375565  0.744781  0.220748  0.967901 -0.592104"
      ]
     },
     "execution_count": 11,
     "metadata": {},
     "output_type": "execute_result"
    }
   ],
   "source": [
    "df_valid.head()"
   ]
  },
  {
   "cell_type": "code",
   "execution_count": 12,
   "id": "31b6cc66",
   "metadata": {},
   "outputs": [
    {
     "data": {
      "text/html": [
       "<div>\n",
       "<style scoped>\n",
       "    .dataframe tbody tr th:only-of-type {\n",
       "        vertical-align: middle;\n",
       "    }\n",
       "\n",
       "    .dataframe tbody tr th {\n",
       "        vertical-align: top;\n",
       "    }\n",
       "\n",
       "    .dataframe thead th {\n",
       "        text-align: right;\n",
       "    }\n",
       "</style>\n",
       "<table border=\"1\" class=\"dataframe\">\n",
       "  <thead>\n",
       "    <tr style=\"text-align: right;\">\n",
       "      <th></th>\n",
       "      <th>AT</th>\n",
       "      <th>V</th>\n",
       "      <th>AP</th>\n",
       "      <th>RH</th>\n",
       "      <th>PE</th>\n",
       "    </tr>\n",
       "  </thead>\n",
       "  <tbody>\n",
       "    <tr>\n",
       "      <th>43479</th>\n",
       "      <td>0.776791</td>\n",
       "      <td>1.248426</td>\n",
       "      <td>-2.123264</td>\n",
       "      <td>1.272703</td>\n",
       "      <td>-1.250712</td>\n",
       "    </tr>\n",
       "    <tr>\n",
       "      <th>36070</th>\n",
       "      <td>1.271949</td>\n",
       "      <td>0.964338</td>\n",
       "      <td>-1.116282</td>\n",
       "      <td>-1.401333</td>\n",
       "      <td>-0.882149</td>\n",
       "    </tr>\n",
       "    <tr>\n",
       "      <th>39690</th>\n",
       "      <td>1.159230</td>\n",
       "      <td>0.594474</td>\n",
       "      <td>-0.233909</td>\n",
       "      <td>-0.625972</td>\n",
       "      <td>-0.944260</td>\n",
       "    </tr>\n",
       "    <tr>\n",
       "      <th>39970</th>\n",
       "      <td>-0.535580</td>\n",
       "      <td>-1.019551</td>\n",
       "      <td>-1.949821</td>\n",
       "      <td>0.887077</td>\n",
       "      <td>0.539367</td>\n",
       "    </tr>\n",
       "    <tr>\n",
       "      <th>46935</th>\n",
       "      <td>0.375565</td>\n",
       "      <td>0.744781</td>\n",
       "      <td>0.220748</td>\n",
       "      <td>0.967901</td>\n",
       "      <td>-0.592104</td>\n",
       "    </tr>\n",
       "  </tbody>\n",
       "</table>\n",
       "</div>"
      ],
      "text/plain": [
       "             AT         V        AP        RH        PE\n",
       "43479  0.776791  1.248426 -2.123264  1.272703 -1.250712\n",
       "36070  1.271949  0.964338 -1.116282 -1.401333 -0.882149\n",
       "39690  1.159230  0.594474 -0.233909 -0.625972 -0.944260\n",
       "39970 -0.535580 -1.019551 -1.949821  0.887077  0.539367\n",
       "46935  0.375565  0.744781  0.220748  0.967901 -0.592104"
      ]
     },
     "execution_count": 12,
     "metadata": {},
     "output_type": "execute_result"
    }
   ],
   "source": [
    "df_test.head()"
   ]
  },
  {
   "cell_type": "code",
   "execution_count": 13,
   "id": "d5882115",
   "metadata": {},
   "outputs": [],
   "source": [
    "scaler = StandardScaler()\n",
    "df_train = scaler.fit_transform(df_train)\n",
    "df_valid = scaler.transform(df_valid)\n",
    "df_test = scaler.transform(df_test)"
   ]
  },
  {
   "cell_type": "code",
   "execution_count": 14,
   "id": "04d6ec3e",
   "metadata": {},
   "outputs": [],
   "source": [
    "X_train = df_train[:,0:4]\n",
    "Y_train = df_train[:,4]\n",
    "\n",
    "X_valid = df_valid[:,0:4]\n",
    "Y_valid = df_valid[:,4]\n",
    "\n",
    "X_test = df_test[:,0:4]\n",
    "Y_test = df_test[:,4]"
   ]
  },
  {
   "cell_type": "code",
   "execution_count": 15,
   "id": "c39d9f80",
   "metadata": {},
   "outputs": [
    {
     "data": {
      "text/plain": [
       "((38272, 4), (9568, 4), (9568, 4))"
      ]
     },
     "execution_count": 15,
     "metadata": {},
     "output_type": "execute_result"
    }
   ],
   "source": [
    "X_train.shape, X_valid.shape, X_test.shape"
   ]
  },
  {
   "cell_type": "code",
   "execution_count": 16,
   "id": "ba3015f4",
   "metadata": {},
   "outputs": [],
   "source": [
    "X_train = Variable(torch.Tensor(X_train))\n",
    "Y_train = Variable(torch.Tensor(Y_train))\n",
    "\n",
    "X_valid = Variable(torch.Tensor(X_valid))\n",
    "Y_valid = Variable(torch.Tensor(Y_valid))\n",
    "\n",
    "X_test = Variable(torch.Tensor(X_test))\n",
    "Y_test = Variable(torch.Tensor(Y_test))"
   ]
  },
  {
   "cell_type": "code",
   "execution_count": 17,
   "id": "c9acf846",
   "metadata": {},
   "outputs": [
    {
     "name": "stdout",
     "output_type": "stream",
     "text": [
      "torch.Size([38272, 4]) torch.Size([38272]) torch.Size([9568, 4]) torch.Size([9568]) torch.Size([9568, 4]) torch.Size([9568])\n"
     ]
    }
   ],
   "source": [
    "print(X_train.shape, Y_train.shape, X_valid.shape, Y_valid.shape,  X_test.shape, Y_test.shape)"
   ]
  },
  {
   "cell_type": "code",
   "execution_count": 18,
   "id": "cb693fb4",
   "metadata": {},
   "outputs": [
    {
     "name": "stdout",
     "output_type": "stream",
     "text": [
      "Using cpu device\n"
     ]
    }
   ],
   "source": [
    "device = \"cuda\" if torch.cuda.is_available() else \"cpu\"\n",
    "print(f\"Using {device} device\")"
   ]
  },
  {
   "cell_type": "markdown",
   "id": "5f731d46",
   "metadata": {},
   "source": [
    "# Model_1"
   ]
  },
  {
   "cell_type": "markdown",
   "id": "f99da76b",
   "metadata": {},
   "source": [
    "Model Defination"
   ]
  },
  {
   "cell_type": "code",
   "execution_count": 19,
   "id": "f522528c",
   "metadata": {},
   "outputs": [
    {
     "data": {
      "text/plain": [
       "Sequential(\n",
       "  (0): Linear(in_features=4, out_features=256, bias=True)\n",
       "  (1): ReLU()\n",
       "  (2): Linear(in_features=256, out_features=128, bias=True)\n",
       "  (3): Sigmoid()\n",
       "  (4): Linear(in_features=128, out_features=32, bias=True)\n",
       "  (5): ReLU()\n",
       "  (6): Linear(in_features=32, out_features=1, bias=True)\n",
       ")"
      ]
     },
     "execution_count": 19,
     "metadata": {},
     "output_type": "execute_result"
    }
   ],
   "source": [
    "model1 = nn.Sequential(\n",
    "    nn.Linear(4,256,dtype=None),\n",
    "    nn.ReLU(),\n",
    "    nn.Linear(256,128,dtype=None),\n",
    "    nn.Sigmoid(),\n",
    "    nn.Linear(128,32,dtype=None),\n",
    "    nn.ReLU(),\n",
    "    nn.Linear(32,1,dtype=None),\n",
    ")\n",
    "model1.to(device)"
   ]
  },
  {
   "cell_type": "markdown",
   "id": "b9359d75",
   "metadata": {},
   "source": [
    "Training the Model"
   ]
  },
  {
   "cell_type": "code",
   "execution_count": 20,
   "id": "41108d39",
   "metadata": {
    "scrolled": true
   },
   "outputs": [
    {
     "name": "stdout",
     "output_type": "stream",
     "text": [
      "Loss =  tensor(1.0250, grad_fn=<MseLossBackward0>)\n",
      "Loss =  tensor(0.7711, grad_fn=<MseLossBackward0>)\n",
      "Loss =  tensor(0.4664, grad_fn=<MseLossBackward0>)\n",
      "Loss =  tensor(0.2113, grad_fn=<MseLossBackward0>)\n",
      "Loss =  tensor(0.1354, grad_fn=<MseLossBackward0>)\n",
      "Loss =  tensor(0.2043, grad_fn=<MseLossBackward0>)\n",
      "Loss =  tensor(0.2131, grad_fn=<MseLossBackward0>)\n",
      "Loss =  tensor(0.1928, grad_fn=<MseLossBackward0>)\n",
      "Loss =  tensor(0.1438, grad_fn=<MseLossBackward0>)\n",
      "Loss =  tensor(0.1120, grad_fn=<MseLossBackward0>)\n",
      "Loss =  tensor(0.1220, grad_fn=<MseLossBackward0>)\n",
      "Loss =  tensor(0.1464, grad_fn=<MseLossBackward0>)\n",
      "Loss =  tensor(0.1543, grad_fn=<MseLossBackward0>)\n",
      "Loss =  tensor(0.1421, grad_fn=<MseLossBackward0>)\n",
      "Loss =  tensor(0.1251, grad_fn=<MseLossBackward0>)\n",
      "Loss =  tensor(0.1124, grad_fn=<MseLossBackward0>)\n",
      "Loss =  tensor(0.1058, grad_fn=<MseLossBackward0>)\n",
      "Loss =  tensor(0.1036, grad_fn=<MseLossBackward0>)\n",
      "Loss =  tensor(0.1053, grad_fn=<MseLossBackward0>)\n",
      "Loss =  tensor(0.1055, grad_fn=<MseLossBackward0>)\n",
      "Loss =  tensor(0.1007, grad_fn=<MseLossBackward0>)\n",
      "Loss =  tensor(0.0937, grad_fn=<MseLossBackward0>)\n",
      "Loss =  tensor(0.0867, grad_fn=<MseLossBackward0>)\n",
      "Loss =  tensor(0.0812, grad_fn=<MseLossBackward0>)\n",
      "Loss =  tensor(0.0800, grad_fn=<MseLossBackward0>)\n",
      "Loss =  tensor(0.0803, grad_fn=<MseLossBackward0>)\n",
      "Loss =  tensor(0.0781, grad_fn=<MseLossBackward0>)\n",
      "Loss =  tensor(0.0750, grad_fn=<MseLossBackward0>)\n",
      "Loss =  tensor(0.0725, grad_fn=<MseLossBackward0>)\n",
      "Loss =  tensor(0.0703, grad_fn=<MseLossBackward0>)\n",
      "Loss =  tensor(0.0690, grad_fn=<MseLossBackward0>)\n",
      "Loss =  tensor(0.0686, grad_fn=<MseLossBackward0>)\n",
      "Loss =  tensor(0.0673, grad_fn=<MseLossBackward0>)\n",
      "Loss =  tensor(0.0660, grad_fn=<MseLossBackward0>)\n",
      "Loss =  tensor(0.0649, grad_fn=<MseLossBackward0>)\n",
      "Loss =  tensor(0.0638, grad_fn=<MseLossBackward0>)\n",
      "Loss =  tensor(0.0636, grad_fn=<MseLossBackward0>)\n",
      "Loss =  tensor(0.0631, grad_fn=<MseLossBackward0>)\n",
      "Loss =  tensor(0.0621, grad_fn=<MseLossBackward0>)\n",
      "Loss =  tensor(0.0616, grad_fn=<MseLossBackward0>)\n",
      "Loss =  tensor(0.0613, grad_fn=<MseLossBackward0>)\n",
      "Loss =  tensor(0.0615, grad_fn=<MseLossBackward0>)\n",
      "Loss =  tensor(0.0614, grad_fn=<MseLossBackward0>)\n",
      "Loss =  tensor(0.0610, grad_fn=<MseLossBackward0>)\n",
      "Loss =  tensor(0.0608, grad_fn=<MseLossBackward0>)\n",
      "Loss =  tensor(0.0607, grad_fn=<MseLossBackward0>)\n",
      "Loss =  tensor(0.0605, grad_fn=<MseLossBackward0>)\n",
      "Loss =  tensor(0.0599, grad_fn=<MseLossBackward0>)\n",
      "Loss =  tensor(0.0595, grad_fn=<MseLossBackward0>)\n",
      "Loss =  tensor(0.0594, grad_fn=<MseLossBackward0>)\n",
      "Loss =  tensor(0.0592, grad_fn=<MseLossBackward0>)\n",
      "Loss =  tensor(0.0590, grad_fn=<MseLossBackward0>)\n",
      "Loss =  tensor(0.0587, grad_fn=<MseLossBackward0>)\n",
      "Loss =  tensor(0.0587, grad_fn=<MseLossBackward0>)\n",
      "Loss =  tensor(0.0586, grad_fn=<MseLossBackward0>)\n",
      "Loss =  tensor(0.0585, grad_fn=<MseLossBackward0>)\n",
      "Loss =  tensor(0.0583, grad_fn=<MseLossBackward0>)\n",
      "Loss =  tensor(0.0583, grad_fn=<MseLossBackward0>)\n",
      "Loss =  tensor(0.0583, grad_fn=<MseLossBackward0>)\n",
      "Loss =  tensor(0.0581, grad_fn=<MseLossBackward0>)\n",
      "Loss =  tensor(0.0580, grad_fn=<MseLossBackward0>)\n",
      "Loss =  tensor(0.0578, grad_fn=<MseLossBackward0>)\n",
      "Loss =  tensor(0.0577, grad_fn=<MseLossBackward0>)\n",
      "Loss =  tensor(0.0576, grad_fn=<MseLossBackward0>)\n",
      "Loss =  tensor(0.0574, grad_fn=<MseLossBackward0>)\n",
      "Loss =  tensor(0.0573, grad_fn=<MseLossBackward0>)\n",
      "Loss =  tensor(0.0573, grad_fn=<MseLossBackward0>)\n",
      "Loss =  tensor(0.0573, grad_fn=<MseLossBackward0>)\n",
      "Loss =  tensor(0.0572, grad_fn=<MseLossBackward0>)\n",
      "Loss =  tensor(0.0572, grad_fn=<MseLossBackward0>)\n",
      "Loss =  tensor(0.0571, grad_fn=<MseLossBackward0>)\n",
      "Loss =  tensor(0.0571, grad_fn=<MseLossBackward0>)\n",
      "Loss =  tensor(0.0570, grad_fn=<MseLossBackward0>)\n",
      "Loss =  tensor(0.0569, grad_fn=<MseLossBackward0>)\n",
      "Loss =  tensor(0.0569, grad_fn=<MseLossBackward0>)\n",
      "Loss =  tensor(0.0568, grad_fn=<MseLossBackward0>)\n",
      "Loss =  tensor(0.0567, grad_fn=<MseLossBackward0>)\n",
      "Loss =  tensor(0.0566, grad_fn=<MseLossBackward0>)\n",
      "Loss =  tensor(0.0566, grad_fn=<MseLossBackward0>)\n",
      "Loss =  tensor(0.0565, grad_fn=<MseLossBackward0>)\n",
      "Loss =  tensor(0.0565, grad_fn=<MseLossBackward0>)\n",
      "Loss =  tensor(0.0565, grad_fn=<MseLossBackward0>)\n",
      "Loss =  tensor(0.0564, grad_fn=<MseLossBackward0>)\n",
      "Loss =  tensor(0.0564, grad_fn=<MseLossBackward0>)\n",
      "Loss =  tensor(0.0563, grad_fn=<MseLossBackward0>)\n",
      "Loss =  tensor(0.0563, grad_fn=<MseLossBackward0>)\n",
      "Loss =  tensor(0.0562, grad_fn=<MseLossBackward0>)\n",
      "Loss =  tensor(0.0562, grad_fn=<MseLossBackward0>)\n",
      "Loss =  tensor(0.0561, grad_fn=<MseLossBackward0>)\n",
      "Loss =  tensor(0.0561, grad_fn=<MseLossBackward0>)\n",
      "Loss =  tensor(0.0560, grad_fn=<MseLossBackward0>)\n",
      "Loss =  tensor(0.0560, grad_fn=<MseLossBackward0>)\n",
      "Loss =  tensor(0.0560, grad_fn=<MseLossBackward0>)\n",
      "Loss =  tensor(0.0559, grad_fn=<MseLossBackward0>)\n",
      "Loss =  tensor(0.0559, grad_fn=<MseLossBackward0>)\n",
      "Loss =  tensor(0.0559, grad_fn=<MseLossBackward0>)\n",
      "Loss =  tensor(0.0558, grad_fn=<MseLossBackward0>)\n",
      "Loss =  tensor(0.0558, grad_fn=<MseLossBackward0>)\n",
      "Loss =  tensor(0.0557, grad_fn=<MseLossBackward0>)\n",
      "Loss =  tensor(0.0557, grad_fn=<MseLossBackward0>)\n"
     ]
    }
   ],
   "source": [
    "optimizer=torch.optim.Adam(model1.parameters(),lr=0.01)\n",
    "for epoch in range(100):\n",
    "    ypred=torch.squeeze(model1(X_train))\n",
    "    Loss=F.mse_loss(ypred,Y_train)\n",
    "    optimizer.zero_grad()\n",
    "    Loss.backward()\n",
    "    optimizer.step()\n",
    "    print(\"Loss = \", Loss)"
   ]
  },
  {
   "cell_type": "markdown",
   "id": "9eacd6e3",
   "metadata": {},
   "source": [
    "Applying Model on Validation Data"
   ]
  },
  {
   "cell_type": "code",
   "execution_count": 21,
   "id": "2069d3b2",
   "metadata": {},
   "outputs": [
    {
     "name": "stdout",
     "output_type": "stream",
     "text": [
      "tensor(0.0558, grad_fn=<MseLossBackward0>)\n"
     ]
    }
   ],
   "source": [
    "pred=torch.squeeze(model1(X_valid))\n",
    "Loss = F.mse_loss(pred,Y_valid)\n",
    "print(Loss) "
   ]
  },
  {
   "cell_type": "markdown",
   "id": "0406797a",
   "metadata": {},
   "source": [
    "# Model_2 "
   ]
  },
  {
   "cell_type": "markdown",
   "id": "e3378fe1",
   "metadata": {},
   "source": [
    "Model Defination"
   ]
  },
  {
   "cell_type": "code",
   "execution_count": 22,
   "id": "35f8d64f",
   "metadata": {},
   "outputs": [
    {
     "data": {
      "text/plain": [
       "Sequential(\n",
       "  (0): Linear(in_features=4, out_features=64, bias=True)\n",
       "  (1): ReLU()\n",
       "  (2): Linear(in_features=64, out_features=32, bias=True)\n",
       "  (3): ReLU()\n",
       "  (4): Linear(in_features=32, out_features=1, bias=True)\n",
       ")"
      ]
     },
     "execution_count": 22,
     "metadata": {},
     "output_type": "execute_result"
    }
   ],
   "source": [
    "model2=nn.Sequential(\n",
    "    nn.Linear(4,64,dtype=None),\n",
    "    nn.ReLU(),\n",
    "    nn.Linear(64,32,dtype=None),\n",
    "    nn.ReLU(),\n",
    "    nn.Linear(32,1,dtype=None),\n",
    ")\n",
    "model2.to(device)"
   ]
  },
  {
   "cell_type": "markdown",
   "id": "2ad9ea94",
   "metadata": {},
   "source": [
    "Training the Model"
   ]
  },
  {
   "cell_type": "code",
   "execution_count": 23,
   "id": "51a33676",
   "metadata": {
    "scrolled": true
   },
   "outputs": [
    {
     "name": "stdout",
     "output_type": "stream",
     "text": [
      "Loss =  tensor(0.9798, grad_fn=<MseLossBackward0>)\n",
      "Loss =  tensor(0.5947, grad_fn=<MseLossBackward0>)\n",
      "Loss =  tensor(0.3281, grad_fn=<MseLossBackward0>)\n",
      "Loss =  tensor(0.1821, grad_fn=<MseLossBackward0>)\n",
      "Loss =  tensor(0.1710, grad_fn=<MseLossBackward0>)\n",
      "Loss =  tensor(0.1596, grad_fn=<MseLossBackward0>)\n",
      "Loss =  tensor(0.1608, grad_fn=<MseLossBackward0>)\n",
      "Loss =  tensor(0.1682, grad_fn=<MseLossBackward0>)\n",
      "Loss =  tensor(0.1524, grad_fn=<MseLossBackward0>)\n",
      "Loss =  tensor(0.1155, grad_fn=<MseLossBackward0>)\n",
      "Loss =  tensor(0.0840, grad_fn=<MseLossBackward0>)\n",
      "Loss =  tensor(0.0778, grad_fn=<MseLossBackward0>)\n",
      "Loss =  tensor(0.0916, grad_fn=<MseLossBackward0>)\n",
      "Loss =  tensor(0.1028, grad_fn=<MseLossBackward0>)\n",
      "Loss =  tensor(0.1016, grad_fn=<MseLossBackward0>)\n",
      "Loss =  tensor(0.0962, grad_fn=<MseLossBackward0>)\n",
      "Loss =  tensor(0.0939, grad_fn=<MseLossBackward0>)\n",
      "Loss =  tensor(0.0920, grad_fn=<MseLossBackward0>)\n",
      "Loss =  tensor(0.0858, grad_fn=<MseLossBackward0>)\n",
      "Loss =  tensor(0.0764, grad_fn=<MseLossBackward0>)\n",
      "Loss =  tensor(0.0694, grad_fn=<MseLossBackward0>)\n",
      "Loss =  tensor(0.0688, grad_fn=<MseLossBackward0>)\n",
      "Loss =  tensor(0.0722, grad_fn=<MseLossBackward0>)\n",
      "Loss =  tensor(0.0741, grad_fn=<MseLossBackward0>)\n",
      "Loss =  tensor(0.0735, grad_fn=<MseLossBackward0>)\n",
      "Loss =  tensor(0.0730, grad_fn=<MseLossBackward0>)\n",
      "Loss =  tensor(0.0734, grad_fn=<MseLossBackward0>)\n",
      "Loss =  tensor(0.0725, grad_fn=<MseLossBackward0>)\n",
      "Loss =  tensor(0.0695, grad_fn=<MseLossBackward0>)\n",
      "Loss =  tensor(0.0661, grad_fn=<MseLossBackward0>)\n",
      "Loss =  tensor(0.0647, grad_fn=<MseLossBackward0>)\n",
      "Loss =  tensor(0.0656, grad_fn=<MseLossBackward0>)\n",
      "Loss =  tensor(0.0665, grad_fn=<MseLossBackward0>)\n",
      "Loss =  tensor(0.0663, grad_fn=<MseLossBackward0>)\n",
      "Loss =  tensor(0.0657, grad_fn=<MseLossBackward0>)\n",
      "Loss =  tensor(0.0655, grad_fn=<MseLossBackward0>)\n",
      "Loss =  tensor(0.0654, grad_fn=<MseLossBackward0>)\n",
      "Loss =  tensor(0.0646, grad_fn=<MseLossBackward0>)\n",
      "Loss =  tensor(0.0631, grad_fn=<MseLossBackward0>)\n",
      "Loss =  tensor(0.0621, grad_fn=<MseLossBackward0>)\n",
      "Loss =  tensor(0.0621, grad_fn=<MseLossBackward0>)\n",
      "Loss =  tensor(0.0626, grad_fn=<MseLossBackward0>)\n",
      "Loss =  tensor(0.0628, grad_fn=<MseLossBackward0>)\n",
      "Loss =  tensor(0.0626, grad_fn=<MseLossBackward0>)\n",
      "Loss =  tensor(0.0626, grad_fn=<MseLossBackward0>)\n",
      "Loss =  tensor(0.0625, grad_fn=<MseLossBackward0>)\n",
      "Loss =  tensor(0.0620, grad_fn=<MseLossBackward0>)\n",
      "Loss =  tensor(0.0613, grad_fn=<MseLossBackward0>)\n",
      "Loss =  tensor(0.0608, grad_fn=<MseLossBackward0>)\n",
      "Loss =  tensor(0.0609, grad_fn=<MseLossBackward0>)\n",
      "Loss =  tensor(0.0610, grad_fn=<MseLossBackward0>)\n",
      "Loss =  tensor(0.0609, grad_fn=<MseLossBackward0>)\n",
      "Loss =  tensor(0.0608, grad_fn=<MseLossBackward0>)\n",
      "Loss =  tensor(0.0607, grad_fn=<MseLossBackward0>)\n",
      "Loss =  tensor(0.0606, grad_fn=<MseLossBackward0>)\n",
      "Loss =  tensor(0.0603, grad_fn=<MseLossBackward0>)\n",
      "Loss =  tensor(0.0600, grad_fn=<MseLossBackward0>)\n",
      "Loss =  tensor(0.0600, grad_fn=<MseLossBackward0>)\n",
      "Loss =  tensor(0.0601, grad_fn=<MseLossBackward0>)\n",
      "Loss =  tensor(0.0601, grad_fn=<MseLossBackward0>)\n",
      "Loss =  tensor(0.0600, grad_fn=<MseLossBackward0>)\n",
      "Loss =  tensor(0.0599, grad_fn=<MseLossBackward0>)\n",
      "Loss =  tensor(0.0599, grad_fn=<MseLossBackward0>)\n",
      "Loss =  tensor(0.0597, grad_fn=<MseLossBackward0>)\n",
      "Loss =  tensor(0.0596, grad_fn=<MseLossBackward0>)\n",
      "Loss =  tensor(0.0595, grad_fn=<MseLossBackward0>)\n",
      "Loss =  tensor(0.0595, grad_fn=<MseLossBackward0>)\n",
      "Loss =  tensor(0.0595, grad_fn=<MseLossBackward0>)\n",
      "Loss =  tensor(0.0595, grad_fn=<MseLossBackward0>)\n",
      "Loss =  tensor(0.0594, grad_fn=<MseLossBackward0>)\n",
      "Loss =  tensor(0.0594, grad_fn=<MseLossBackward0>)\n",
      "Loss =  tensor(0.0593, grad_fn=<MseLossBackward0>)\n",
      "Loss =  tensor(0.0592, grad_fn=<MseLossBackward0>)\n",
      "Loss =  tensor(0.0592, grad_fn=<MseLossBackward0>)\n",
      "Loss =  tensor(0.0592, grad_fn=<MseLossBackward0>)\n",
      "Loss =  tensor(0.0591, grad_fn=<MseLossBackward0>)\n",
      "Loss =  tensor(0.0591, grad_fn=<MseLossBackward0>)\n",
      "Loss =  tensor(0.0591, grad_fn=<MseLossBackward0>)\n",
      "Loss =  tensor(0.0590, grad_fn=<MseLossBackward0>)\n",
      "Loss =  tensor(0.0589, grad_fn=<MseLossBackward0>)\n",
      "Loss =  tensor(0.0589, grad_fn=<MseLossBackward0>)\n",
      "Loss =  tensor(0.0589, grad_fn=<MseLossBackward0>)\n",
      "Loss =  tensor(0.0589, grad_fn=<MseLossBackward0>)\n",
      "Loss =  tensor(0.0588, grad_fn=<MseLossBackward0>)\n",
      "Loss =  tensor(0.0588, grad_fn=<MseLossBackward0>)\n",
      "Loss =  tensor(0.0588, grad_fn=<MseLossBackward0>)\n",
      "Loss =  tensor(0.0587, grad_fn=<MseLossBackward0>)\n",
      "Loss =  tensor(0.0587, grad_fn=<MseLossBackward0>)\n",
      "Loss =  tensor(0.0587, grad_fn=<MseLossBackward0>)\n",
      "Loss =  tensor(0.0586, grad_fn=<MseLossBackward0>)\n",
      "Loss =  tensor(0.0586, grad_fn=<MseLossBackward0>)\n",
      "Loss =  tensor(0.0586, grad_fn=<MseLossBackward0>)\n",
      "Loss =  tensor(0.0585, grad_fn=<MseLossBackward0>)\n",
      "Loss =  tensor(0.0585, grad_fn=<MseLossBackward0>)\n",
      "Loss =  tensor(0.0585, grad_fn=<MseLossBackward0>)\n",
      "Loss =  tensor(0.0584, grad_fn=<MseLossBackward0>)\n",
      "Loss =  tensor(0.0584, grad_fn=<MseLossBackward0>)\n",
      "Loss =  tensor(0.0584, grad_fn=<MseLossBackward0>)\n",
      "Loss =  tensor(0.0583, grad_fn=<MseLossBackward0>)\n",
      "Loss =  tensor(0.0583, grad_fn=<MseLossBackward0>)\n"
     ]
    }
   ],
   "source": [
    "optimizer=torch.optim.Adam(model2.parameters(),lr=0.01)\n",
    "for epoch in range(100):\n",
    "    ypred=torch.squeeze(model2(X_train))\n",
    "    Loss=F.mse_loss(ypred,Y_train)\n",
    "    optimizer.zero_grad()\n",
    "    Loss.backward()\n",
    "    optimizer.step()\n",
    "    print(\"Loss = \", Loss)"
   ]
  },
  {
   "cell_type": "markdown",
   "id": "9c48cff2",
   "metadata": {},
   "source": [
    "Applying Model on Validation Data"
   ]
  },
  {
   "cell_type": "code",
   "execution_count": 24,
   "id": "c6876160",
   "metadata": {},
   "outputs": [
    {
     "name": "stdout",
     "output_type": "stream",
     "text": [
      "tensor(0.0583, grad_fn=<MseLossBackward0>)\n"
     ]
    }
   ],
   "source": [
    "pred=torch.squeeze(model2(X_valid))\n",
    "Loss = F.mse_loss(pred,Y_valid)\n",
    "print(Loss)"
   ]
  },
  {
   "cell_type": "markdown",
   "id": "0393c8c4",
   "metadata": {},
   "source": [
    "#  Since the error_Model1 < error_Model2, hence we will proceed with Model1"
   ]
  },
  {
   "cell_type": "markdown",
   "id": "17fe7447",
   "metadata": {},
   "source": [
    "Predicting the PE of Testing Data"
   ]
  },
  {
   "cell_type": "code",
   "execution_count": 25,
   "id": "4a566527",
   "metadata": {},
   "outputs": [
    {
     "name": "stdout",
     "output_type": "stream",
     "text": [
      "Mean Squared Error Observed: tensor(16.2665, grad_fn=<DivBackward0>)\n"
     ]
    },
    {
     "data": {
      "text/plain": [
       "(415.0, 505.0)"
      ]
     },
     "execution_count": 25,
     "metadata": {},
     "output_type": "execute_result"
    },
    {
     "data": {
      "image/png": "[encoded data removed]",
      "text/plain": [
       "<Figure size 640x480 with 1 Axes>"
      ]
     },
     "metadata": {},
     "output_type": "display_data"
    }
   ],
   "source": [
    "prediction=[]\n",
    "true_val=[]\n",
    "Total_Loss=0\n",
    "for i in range(len(X_test)):\n",
    "    pred=model1(X_test[i])\n",
    "    pred=pred*std_PE + mean_PE\n",
    "    true_value=Y_test[i]*std_PE +mean_PE\n",
    "    Loss = F.mse_loss(torch.squeeze(pred),true_value)\n",
    "    Total_Loss+=Loss\n",
    "    prediction.append(pred.tolist())\n",
    "    true_val.append(true_value.item())\n",
    "    \n",
    "print(\"Mean Squared Error Observed:\", Total_Loss/len(X_test))\n",
    "plt.scatter(true_val,prediction)\n",
    "plt.xlabel('Actual PE')\n",
    "plt.ylabel('Predicted PE')\n",
    "\n",
    "plt.plot([415,505],[415,505],'r-')\n",
    "plt.xlim(415,505)\n",
    "plt.ylim(415,505)"
   ]
  },
  {
   "cell_type": "markdown",
   "id": "20be8e66",
   "metadata": {},
   "source": [
    "# The total Mean Squared Error on the Test Dataset is 16.2665"
   ]
  }
 ],
 "metadata": {
  "kernelspec": {
   "display_name": "Python 3 (ipykernel)",
   "language": "python",
   "name": "python3"
  },
  "language_info": {
   "codemirror_mode": {
    "name": "ipython",
    "version": 3
   },
   "file_extension": ".py",
   "mimetype": "text/x-python",
   "name": "python",
   "nbconvert_exporter": "python",
   "pygments_lexer": "ipython3",
   "version": "3.9.15"
  }
 },
 "nbformat": 4,
 "nbformat_minor": 5
}
