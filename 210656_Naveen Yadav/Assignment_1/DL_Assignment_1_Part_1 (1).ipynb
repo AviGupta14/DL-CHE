{
  "nbformat": 4,
  "nbformat_minor": 0,
  "metadata": {
    "colab": {
      "provenance": []
    },
    "kernelspec": {
      "name": "python3",
      "display_name": "Python 3"
    },
    "language_info": {
      "name": "python"
    }
  },
  "cells": [
    {
      "cell_type": "code",
      "source": [
        "import torch\n",
        "import torch.nn as nn\n",
        "import torch.optim as optim\n",
        "\n"
      ],
      "metadata": {
        "id": "wEbwxBgCzRFi"
      },
      "execution_count": 121,
      "outputs": []
    },
    {
      "cell_type": "code",
      "source": [
        "device='cuda' if torch.cuda.is_available() else 'cpu'\n",
        "print('A {} device was detected.'.format(device))"
      ],
      "metadata": {
        "colab": {
          "base_uri": "https://localhost:8080/"
        },
        "id": "EwUZDj77LOwA",
        "outputId": "227c6f41-1bf5-4b76-8fd1-5fe71f7be46b"
      },
      "execution_count": 122,
      "outputs": [
        {
          "output_type": "stream",
          "name": "stdout",
          "text": [
            "A cpu device was detected.\n"
          ]
        }
      ]
    },
    {
      "cell_type": "code",
      "source": [
        "import pandas as pd\n",
        "from google.colab import drive\n",
        "drive.mount('/content/drive')\n"
      ],
      "metadata": {
        "colab": {
          "base_uri": "https://localhost:8080/"
        },
        "id": "V_WRoJ8ZDSab",
        "outputId": "933be84b-5c2e-45e2-f12c-6124a1e0abb5"
      },
      "execution_count": 123,
      "outputs": [
        {
          "output_type": "stream",
          "name": "stdout",
          "text": [
            "Drive already mounted at /content/drive; to attempt to forcibly remount, call drive.mount(\"/content/drive\", force_remount=True).\n"
          ]
        }
      ]
    },
    {
      "cell_type": "code",
      "source": [
        "path='/content/drive/MyDrive/Colab Notebooks/Combined_Data - Sheet1.csv'\n",
        "df=pd.read_csv(path)\n",
        "df.head()"
      ],
      "metadata": {
        "colab": {
          "base_uri": "https://localhost:8080/",
          "height": 206
        },
        "id": "QOKe8jokFzc6",
        "outputId": "948cc710-07e4-447f-8467-51c5dd0f90ae"
      },
      "execution_count": 124,
      "outputs": [
        {
          "output_type": "execute_result",
          "data": {
            "text/plain": [
              "      AT      V       AP     RH      PE\n",
              "0  14.96  41.76  1024.07  73.17  463.26\n",
              "1  25.18  62.96  1020.04  59.08  444.37\n",
              "2   5.11  39.40  1012.16  92.14  488.56\n",
              "3  20.86  57.32  1010.24  76.64  446.48\n",
              "4  10.82  37.50  1009.23  96.62  473.90"
            ],
            "text/html": [
              "\n",
              "  <div id=\"df-16fdeab7-f641-439b-9254-bad689b29a96\">\n",
              "    <div class=\"colab-df-container\">\n",
              "      <div>\n",
              "<style scoped>\n",
              "    .dataframe tbody tr th:only-of-type {\n",
              "        vertical-align: middle;\n",
              "    }\n",
              "\n",
              "    .dataframe tbody tr th {\n",
              "        vertical-align: top;\n",
              "    }\n",
              "\n",
              "    .dataframe thead th {\n",
              "        text-align: right;\n",
              "    }\n",
              "</style>\n",
              "<table border=\"1\" class=\"dataframe\">\n",
              "  <thead>\n",
              "    <tr style=\"text-align: right;\">\n",
              "      <th></th>\n",
              "      <th>AT</th>\n",
              "      <th>V</th>\n",
              "      <th>AP</th>\n",
              "      <th>RH</th>\n",
              "      <th>PE</th>\n",
              "    </tr>\n",
              "  </thead>\n",
              "  <tbody>\n",
              "    <tr>\n",
              "      <th>0</th>\n",
              "      <td>14.96</td>\n",
              "      <td>41.76</td>\n",
              "      <td>1024.07</td>\n",
              "      <td>73.17</td>\n",
              "      <td>463.26</td>\n",
              "    </tr>\n",
              "    <tr>\n",
              "      <th>1</th>\n",
              "      <td>25.18</td>\n",
              "      <td>62.96</td>\n",
              "      <td>1020.04</td>\n",
              "      <td>59.08</td>\n",
              "      <td>444.37</td>\n",
              "    </tr>\n",
              "    <tr>\n",
              "      <th>2</th>\n",
              "      <td>5.11</td>\n",
              "      <td>39.40</td>\n",
              "      <td>1012.16</td>\n",
              "      <td>92.14</td>\n",
              "      <td>488.56</td>\n",
              "    </tr>\n",
              "    <tr>\n",
              "      <th>3</th>\n",
              "      <td>20.86</td>\n",
              "      <td>57.32</td>\n",
              "      <td>1010.24</td>\n",
              "      <td>76.64</td>\n",
              "      <td>446.48</td>\n",
              "    </tr>\n",
              "    <tr>\n",
              "      <th>4</th>\n",
              "      <td>10.82</td>\n",
              "      <td>37.50</td>\n",
              "      <td>1009.23</td>\n",
              "      <td>96.62</td>\n",
              "      <td>473.90</td>\n",
              "    </tr>\n",
              "  </tbody>\n",
              "</table>\n",
              "</div>\n",
              "      <button class=\"colab-df-convert\" onclick=\"convertToInteractive('df-16fdeab7-f641-439b-9254-bad689b29a96')\"\n",
              "              title=\"Convert this dataframe to an interactive table.\"\n",
              "              style=\"display:none;\">\n",
              "        \n",
              "  <svg xmlns=\"http://www.w3.org/2000/svg\" height=\"24px\"viewBox=\"0 0 24 24\"\n",
              "       width=\"24px\">\n",
              "    <path d=\"M0 0h24v24H0V0z\" fill=\"none\"/>\n",
              "    <path d=\"M18.56 5.44l.94 2.06.94-2.06 2.06-.94-2.06-.94-.94-2.06-.94 2.06-2.06.94zm-11 1L8.5 8.5l.94-2.06 2.06-.94-2.06-.94L8.5 2.5l-.94 2.06-2.06.94zm10 10l.94 2.06.94-2.06 2.06-.94-2.06-.94-.94-2.06-.94 2.06-2.06.94z\"/><path d=\"M17.41 7.96l-1.37-1.37c-.4-.4-.92-.59-1.43-.59-.52 0-1.04.2-1.43.59L10.3 9.45l-7.72 7.72c-.78.78-.78 2.05 0 2.83L4 21.41c.39.39.9.59 1.41.59.51 0 1.02-.2 1.41-.59l7.78-7.78 2.81-2.81c.8-.78.8-2.07 0-2.86zM5.41 20L4 18.59l7.72-7.72 1.47 1.35L5.41 20z\"/>\n",
              "  </svg>\n",
              "      </button>\n",
              "      \n",
              "  <style>\n",
              "    .colab-df-container {\n",
              "      display:flex;\n",
              "      flex-wrap:wrap;\n",
              "      gap: 12px;\n",
              "    }\n",
              "\n",
              "    .colab-df-convert {\n",
              "      background-color: #E8F0FE;\n",
              "      border: none;\n",
              "      border-radius: 50%;\n",
              "      cursor: pointer;\n",
              "      display: none;\n",
              "      fill: #1967D2;\n",
              "      height: 32px;\n",
              "      padding: 0 0 0 0;\n",
              "      width: 32px;\n",
              "    }\n",
              "\n",
              "    .colab-df-convert:hover {\n",
              "      background-color: #E2EBFA;\n",
              "      box-shadow: 0px 1px 2px rgba(60, 64, 67, 0.3), 0px 1px 3px 1px rgba(60, 64, 67, 0.15);\n",
              "      fill: #174EA6;\n",
              "    }\n",
              "\n",
              "    [theme=dark] .colab-df-convert {\n",
              "      background-color: #3B4455;\n",
              "      fill: #D2E3FC;\n",
              "    }\n",
              "\n",
              "    [theme=dark] .colab-df-convert:hover {\n",
              "      background-color: #434B5C;\n",
              "      box-shadow: 0px 1px 3px 1px rgba(0, 0, 0, 0.15);\n",
              "      filter: drop-shadow(0px 1px 2px rgba(0, 0, 0, 0.3));\n",
              "      fill: #FFFFFF;\n",
              "    }\n",
              "  </style>\n",
              "\n",
              "      <script>\n",
              "        const buttonEl =\n",
              "          document.querySelector('#df-16fdeab7-f641-439b-9254-bad689b29a96 button.colab-df-convert');\n",
              "        buttonEl.style.display =\n",
              "          google.colab.kernel.accessAllowed ? 'block' : 'none';\n",
              "\n",
              "        async function convertToInteractive(key) {\n",
              "          const element = document.querySelector('#df-16fdeab7-f641-439b-9254-bad689b29a96');\n",
              "          const dataTable =\n",
              "            await google.colab.kernel.invokeFunction('convertToInteractive',\n",
              "                                                     [key], {});\n",
              "          if (!dataTable) return;\n",
              "\n",
              "          const docLinkHtml = 'Like what you see? Visit the ' +\n",
              "            '<a target=\"_blank\" href=https://colab.research.google.com/notebooks/data_table.ipynb>data table notebook</a>'\n",
              "            + ' to learn more about interactive tables.';\n",
              "          element.innerHTML = '';\n",
              "          dataTable['output_type'] = 'display_data';\n",
              "          await google.colab.output.renderOutput(dataTable, element);\n",
              "          const docLink = document.createElement('div');\n",
              "          docLink.innerHTML = docLinkHtml;\n",
              "          element.appendChild(docLink);\n",
              "        }\n",
              "      </script>\n",
              "    </div>\n",
              "  </div>\n",
              "  "
            ]
          },
          "metadata": {},
          "execution_count": 124
        }
      ]
    },
    {
      "cell_type": "code",
      "source": [
        "df.shape"
      ],
      "metadata": {
        "colab": {
          "base_uri": "https://localhost:8080/"
        },
        "id": "EQXMPbaGGBDU",
        "outputId": "5548fbe8-1ad0-4d7d-894e-33dd5db144fb"
      },
      "execution_count": 125,
      "outputs": [
        {
          "output_type": "execute_result",
          "data": {
            "text/plain": [
              "(47840, 5)"
            ]
          },
          "metadata": {},
          "execution_count": 125
        }
      ]
    },
    {
      "cell_type": "code",
      "source": [
        "#standardize the dataset\n",
        "\n",
        "#Calculate Mean\n",
        "meanAT=df['AT'].mean()\n",
        "meanV=df['V'].mean()\n",
        "meanAP=df['AP'].mean()\n",
        "meanRH=df['RH'].mean()\n",
        "meanPE=df['PE'].mean()\n",
        "\n",
        "#Calculate Standard Deviation\n",
        "\n",
        "stdAT=df['AT'].std()\n",
        "stdV=df['V'].std()\n",
        "stdAP=df['AP'].std()\n",
        "stdRH=df['RH'].std()\n",
        "stdPE=df['PE'].std()\n",
        "\n",
        "df['AT']=(df['AT']-meanAT)/stdAT\n",
        "df['V']=(df['V']-meanV)/stdV\n",
        "df['AP']=(df['AP']-meanAP)/stdAP\n",
        "df['RH']=(df['RH']-meanRH)/stdRH\n",
        "df['PE']=(df['PE']-meanPE)/stdPE\n",
        "\n",
        "df.head()"
      ],
      "metadata": {
        "colab": {
          "base_uri": "https://localhost:8080/",
          "height": 206
        },
        "id": "kNvkQbt4HLV3",
        "outputId": "66ef392d-0625-497c-d9db-8dafaaf9054a"
      },
      "execution_count": 126,
      "outputs": [
        {
          "output_type": "execute_result",
          "data": {
            "text/plain": [
              "         AT         V        AP        RH        PE\n",
              "0 -0.629513 -0.987286  1.820469 -0.009519  0.521203\n",
              "1  0.741901  0.681038  1.141851 -0.974610 -0.585658\n",
              "2 -1.951277 -1.173005 -0.185076  1.289826  2.003658\n",
              "3  0.162204  0.237201 -0.508388  0.228158 -0.462023\n",
              "4 -1.185056 -1.322525 -0.678463  1.596683  1.144654"
            ],
            "text/html": [
              "\n",
              "  <div id=\"df-6d7f7bf5-72ed-48cc-9bdf-8523880bc076\">\n",
              "    <div class=\"colab-df-container\">\n",
              "      <div>\n",
              "<style scoped>\n",
              "    .dataframe tbody tr th:only-of-type {\n",
              "        vertical-align: middle;\n",
              "    }\n",
              "\n",
              "    .dataframe tbody tr th {\n",
              "        vertical-align: top;\n",
              "    }\n",
              "\n",
              "    .dataframe thead th {\n",
              "        text-align: right;\n",
              "    }\n",
              "</style>\n",
              "<table border=\"1\" class=\"dataframe\">\n",
              "  <thead>\n",
              "    <tr style=\"text-align: right;\">\n",
              "      <th></th>\n",
              "      <th>AT</th>\n",
              "      <th>V</th>\n",
              "      <th>AP</th>\n",
              "      <th>RH</th>\n",
              "      <th>PE</th>\n",
              "    </tr>\n",
              "  </thead>\n",
              "  <tbody>\n",
              "    <tr>\n",
              "      <th>0</th>\n",
              "      <td>-0.629513</td>\n",
              "      <td>-0.987286</td>\n",
              "      <td>1.820469</td>\n",
              "      <td>-0.009519</td>\n",
              "      <td>0.521203</td>\n",
              "    </tr>\n",
              "    <tr>\n",
              "      <th>1</th>\n",
              "      <td>0.741901</td>\n",
              "      <td>0.681038</td>\n",
              "      <td>1.141851</td>\n",
              "      <td>-0.974610</td>\n",
              "      <td>-0.585658</td>\n",
              "    </tr>\n",
              "    <tr>\n",
              "      <th>2</th>\n",
              "      <td>-1.951277</td>\n",
              "      <td>-1.173005</td>\n",
              "      <td>-0.185076</td>\n",
              "      <td>1.289826</td>\n",
              "      <td>2.003658</td>\n",
              "    </tr>\n",
              "    <tr>\n",
              "      <th>3</th>\n",
              "      <td>0.162204</td>\n",
              "      <td>0.237201</td>\n",
              "      <td>-0.508388</td>\n",
              "      <td>0.228158</td>\n",
              "      <td>-0.462023</td>\n",
              "    </tr>\n",
              "    <tr>\n",
              "      <th>4</th>\n",
              "      <td>-1.185056</td>\n",
              "      <td>-1.322525</td>\n",
              "      <td>-0.678463</td>\n",
              "      <td>1.596683</td>\n",
              "      <td>1.144654</td>\n",
              "    </tr>\n",
              "  </tbody>\n",
              "</table>\n",
              "</div>\n",
              "      <button class=\"colab-df-convert\" onclick=\"convertToInteractive('df-6d7f7bf5-72ed-48cc-9bdf-8523880bc076')\"\n",
              "              title=\"Convert this dataframe to an interactive table.\"\n",
              "              style=\"display:none;\">\n",
              "        \n",
              "  <svg xmlns=\"http://www.w3.org/2000/svg\" height=\"24px\"viewBox=\"0 0 24 24\"\n",
              "       width=\"24px\">\n",
              "    <path d=\"M0 0h24v24H0V0z\" fill=\"none\"/>\n",
              "    <path d=\"M18.56 5.44l.94 2.06.94-2.06 2.06-.94-2.06-.94-.94-2.06-.94 2.06-2.06.94zm-11 1L8.5 8.5l.94-2.06 2.06-.94-2.06-.94L8.5 2.5l-.94 2.06-2.06.94zm10 10l.94 2.06.94-2.06 2.06-.94-2.06-.94-.94-2.06-.94 2.06-2.06.94z\"/><path d=\"M17.41 7.96l-1.37-1.37c-.4-.4-.92-.59-1.43-.59-.52 0-1.04.2-1.43.59L10.3 9.45l-7.72 7.72c-.78.78-.78 2.05 0 2.83L4 21.41c.39.39.9.59 1.41.59.51 0 1.02-.2 1.41-.59l7.78-7.78 2.81-2.81c.8-.78.8-2.07 0-2.86zM5.41 20L4 18.59l7.72-7.72 1.47 1.35L5.41 20z\"/>\n",
              "  </svg>\n",
              "      </button>\n",
              "      \n",
              "  <style>\n",
              "    .colab-df-container {\n",
              "      display:flex;\n",
              "      flex-wrap:wrap;\n",
              "      gap: 12px;\n",
              "    }\n",
              "\n",
              "    .colab-df-convert {\n",
              "      background-color: #E8F0FE;\n",
              "      border: none;\n",
              "      border-radius: 50%;\n",
              "      cursor: pointer;\n",
              "      display: none;\n",
              "      fill: #1967D2;\n",
              "      height: 32px;\n",
              "      padding: 0 0 0 0;\n",
              "      width: 32px;\n",
              "    }\n",
              "\n",
              "    .colab-df-convert:hover {\n",
              "      background-color: #E2EBFA;\n",
              "      box-shadow: 0px 1px 2px rgba(60, 64, 67, 0.3), 0px 1px 3px 1px rgba(60, 64, 67, 0.15);\n",
              "      fill: #174EA6;\n",
              "    }\n",
              "\n",
              "    [theme=dark] .colab-df-convert {\n",
              "      background-color: #3B4455;\n",
              "      fill: #D2E3FC;\n",
              "    }\n",
              "\n",
              "    [theme=dark] .colab-df-convert:hover {\n",
              "      background-color: #434B5C;\n",
              "      box-shadow: 0px 1px 3px 1px rgba(0, 0, 0, 0.15);\n",
              "      filter: drop-shadow(0px 1px 2px rgba(0, 0, 0, 0.3));\n",
              "      fill: #FFFFFF;\n",
              "    }\n",
              "  </style>\n",
              "\n",
              "      <script>\n",
              "        const buttonEl =\n",
              "          document.querySelector('#df-6d7f7bf5-72ed-48cc-9bdf-8523880bc076 button.colab-df-convert');\n",
              "        buttonEl.style.display =\n",
              "          google.colab.kernel.accessAllowed ? 'block' : 'none';\n",
              "\n",
              "        async function convertToInteractive(key) {\n",
              "          const element = document.querySelector('#df-6d7f7bf5-72ed-48cc-9bdf-8523880bc076');\n",
              "          const dataTable =\n",
              "            await google.colab.kernel.invokeFunction('convertToInteractive',\n",
              "                                                     [key], {});\n",
              "          if (!dataTable) return;\n",
              "\n",
              "          const docLinkHtml = 'Like what you see? Visit the ' +\n",
              "            '<a target=\"_blank\" href=https://colab.research.google.com/notebooks/data_table.ipynb>data table notebook</a>'\n",
              "            + ' to learn more about interactive tables.';\n",
              "          element.innerHTML = '';\n",
              "          dataTable['output_type'] = 'display_data';\n",
              "          await google.colab.output.renderOutput(dataTable, element);\n",
              "          const docLink = document.createElement('div');\n",
              "          docLink.innerHTML = docLinkHtml;\n",
              "          element.appendChild(docLink);\n",
              "        }\n",
              "      </script>\n",
              "    </div>\n",
              "  </div>\n",
              "  "
            ]
          },
          "metadata": {},
          "execution_count": 126
        }
      ]
    },
    {
      "cell_type": "code",
      "source": [
        "inputs=['AT','V','AP','RH']\n",
        "X=torch.tensor(df[inputs].values, dtype=torch.float32, device=device)\n",
        "\n",
        "output=['PE']\n",
        "y=torch.tensor(df[output].values, dtype=torch.float32, device=device)"
      ],
      "metadata": {
        "id": "VccW14P3IxuH"
      },
      "execution_count": 127,
      "outputs": []
    },
    {
      "cell_type": "code",
      "source": [
        "X[0:4]"
      ],
      "metadata": {
        "colab": {
          "base_uri": "https://localhost:8080/"
        },
        "id": "OUVZGeGpJd_I",
        "outputId": "83b43fdb-3a84-494c-eed5-f96c38221aee"
      },
      "execution_count": 128,
      "outputs": [
        {
          "output_type": "execute_result",
          "data": {
            "text/plain": [
              "tensor([[-0.6295, -0.9873,  1.8205, -0.0095],\n",
              "        [ 0.7419,  0.6810,  1.1419, -0.9746],\n",
              "        [-1.9513, -1.1730, -0.1851,  1.2898],\n",
              "        [ 0.1622,  0.2372, -0.5084,  0.2282]])"
            ]
          },
          "metadata": {},
          "execution_count": 128
        }
      ]
    },
    {
      "cell_type": "code",
      "source": [
        "y[0:4]"
      ],
      "metadata": {
        "colab": {
          "base_uri": "https://localhost:8080/"
        },
        "id": "96XG641sJtlI",
        "outputId": "58af7019-a096-4d2b-b177-029a9dfc2652"
      },
      "execution_count": 129,
      "outputs": [
        {
          "output_type": "execute_result",
          "data": {
            "text/plain": [
              "tensor([[ 0.5212],\n",
              "        [-0.5857],\n",
              "        [ 2.0037],\n",
              "        [-0.4620]])"
            ]
          },
          "metadata": {},
          "execution_count": 129
        }
      ]
    },
    {
      "cell_type": "code",
      "source": [
        "from sklearn.model_selection import train_test_split\n",
        "X_train_valid,X_test,y_train_valid,y_test=train_test_split(X,y,test_size=0.2,random_state=3)\n",
        "\n",
        "X_train,X_valid,y_train,y_valid=train_test_split(X_train_valid,y_train_valid,test_size=0.25,random_state=3)\n"
      ],
      "metadata": {
        "id": "vLsQqUgJViJo"
      },
      "execution_count": 130,
      "outputs": []
    },
    {
      "cell_type": "code",
      "source": [
        "from torch.nn.modules.activation import ReLU\n",
        "# No of input layers = 4\n",
        "# No of output layers = 1\n",
        "# No of hidden layers = 2\n",
        "# Activation Function = ReLU\n",
        "# No of hidden units = 64 and 32\n",
        "\n",
        "model=nn.Sequential(\n",
        "    nn.Linear(4,64),\n",
        "    nn.ReLU(),\n",
        "    nn.Linear(64,32),\n",
        "    nn.ReLU(),\n",
        "    nn.Linear(32,1),\n",
        "\n",
        ")\n",
        "model.to(device)\n"
      ],
      "metadata": {
        "colab": {
          "base_uri": "https://localhost:8080/"
        },
        "id": "dhOx__IaJyfE",
        "outputId": "8a05de29-eb8c-4ce1-ac0d-6779a7576250"
      },
      "execution_count": 131,
      "outputs": [
        {
          "output_type": "execute_result",
          "data": {
            "text/plain": [
              "Sequential(\n",
              "  (0): Linear(in_features=4, out_features=64, bias=True)\n",
              "  (1): ReLU()\n",
              "  (2): Linear(in_features=64, out_features=32, bias=True)\n",
              "  (3): ReLU()\n",
              "  (4): Linear(in_features=32, out_features=1, bias=True)\n",
              ")"
            ]
          },
          "metadata": {},
          "execution_count": 131
        }
      ]
    },
    {
      "cell_type": "code",
      "source": [
        "#Training the neural network\n",
        "\n",
        "criterion=torch.nn.MSELoss()\n",
        "optimizer=optim.Adam(model.parameters(),lr=0.01)\n",
        "\n",
        "for epoch in range(5):\n",
        "  totalLoss=0\n",
        "  for i in range(len(X_train)):\n",
        "    ypred=model(X_train[i])\n",
        "    loss=criterion(ypred,y_train[i])\n",
        "    totalLoss+=loss.item()\n",
        "\n",
        "    optimizer.zero_grad()\n",
        "    loss.backward()\n",
        "    optimizer.step()\n",
        "\n",
        "  print(\"Total Loss= \", totalLoss)\n"
      ],
      "metadata": {
        "colab": {
          "base_uri": "https://localhost:8080/"
        },
        "id": "PhsGgYASL9jc",
        "outputId": "a83f0d28-8bad-47fa-e625-2d34e099eb07"
      },
      "execution_count": 132,
      "outputs": [
        {
          "output_type": "stream",
          "name": "stdout",
          "text": [
            "Total Loss=  2309.600176190775\n",
            "Total Loss=  2133.511808042405\n",
            "Total Loss=  2135.148515453777\n",
            "Total Loss=  2121.3808467512085\n",
            "Total Loss=  2107.461257884373\n"
          ]
        }
      ]
    },
    {
      "cell_type": "code",
      "source": [
        "@torch.no_grad()\n",
        "def graph(model,X_train,y_train,min,max):\n",
        "  model.eval()\n",
        "  prediction=[]\n",
        "  actual=[]\n",
        "\n",
        "  X_train.to(device)\n",
        "  y_train.to(device)\n",
        "  model.to(device)\n",
        "\n",
        "  for i in range(len(X_train)):\n",
        "    pred=model(X_train[i])\n",
        "    pred=pred*stdPE + meanPE\n",
        "\n",
        "    act=y_train[i]*stdPE +meanPE\n",
        "\n",
        "    prediction.append(pred.tolist())\n",
        "    actual.append(act.item())\n",
        "\n",
        "  import matplotlib.pyplot as plt\n",
        "  plt.scatter(actual,prediction)\n",
        "  plt.xlabel('Actual PE')\n",
        "  plt.ylabel('Predicted PE')\n",
        "\n",
        "  plt.plot([min,max],[min,max])\n",
        "  plt.xlim(min,max)\n",
        "  plt.ylim(min,max)\n",
        "\n",
        "  plt.show()\n",
        "  "
      ],
      "metadata": {
        "id": "y50JkXXaOj68"
      },
      "execution_count": 133,
      "outputs": []
    },
    {
      "cell_type": "code",
      "source": [
        "graph(model,X_train,y_train,410,510)"
      ],
      "metadata": {
        "colab": {
          "base_uri": "https://localhost:8080/",
          "height": 279
        },
        "id": "zy8Qm1VRQrIX",
        "outputId": "9e8a2c9f-0a92-4dd4-d99c-65ae45fe16e7"
      },
      "execution_count": 134,
      "outputs": [
        {
          "output_type": "display_data",
          "data": {
            "text/plain": [
              "<Figure size 432x288 with 1 Axes>"
            ],
            "image/png": "[encoded data removed]"
          },
          "metadata": {
            "needs_background": "light"
          }
        }
      ]
    },
    {
      "cell_type": "code",
      "source": [
        "#Validation\n",
        "\n",
        "criterion=torch.nn.MSELoss()\n",
        "optimizer=optim.Adam(model.parameters(),lr=0.01)\n",
        "\n",
        "for epoch in range(5):\n",
        "  totalLoss=0\n",
        "  for i in range(len(X_valid)):\n",
        "    ypred=model(X_valid[i])\n",
        "    loss2=criterion(ypred,y_valid[i])\n",
        "    totalLoss+=loss2.item()\n",
        "    optimizer.zero_grad()\n",
        "    loss2.backward()\n",
        "    optimizer.step()\n",
        "\n",
        "  print(\"Total Loss= \", totalLoss)\n",
        "\n"
      ],
      "metadata": {
        "colab": {
          "base_uri": "https://localhost:8080/"
        },
        "id": "ZP6bI1QSXIne",
        "outputId": "3cc6e261-ca8e-4389-c85d-b83a478aa1bd"
      },
      "execution_count": 135,
      "outputs": [
        {
          "output_type": "stream",
          "name": "stdout",
          "text": [
            "Total Loss=  713.6059681945128\n",
            "Total Loss=  714.0754888347034\n",
            "Total Loss=  714.6927259913297\n",
            "Total Loss=  712.6238978337336\n",
            "Total Loss=  711.2779804280275\n"
          ]
        }
      ]
    },
    {
      "cell_type": "code",
      "source": [
        "@torch.no_grad()\n",
        "def graph2(model,X_valid,y_valid,min,max):\n",
        "  model.eval()\n",
        "  prediction2=[]\n",
        "  actual2=[]\n",
        "\n",
        "  X_valid.to(device)\n",
        "  y_valid.to(device)\n",
        "  model.to(device)\n",
        "\n",
        "  for i in range(len(X_valid)):\n",
        "    pred2=model(X_valid[i])\n",
        "    pred2=pred2*stdPE + meanPE\n",
        "\n",
        "    act2=y_valid[i]*stdPE +meanPE\n",
        "\n",
        "    prediction2.append(pred2.tolist())\n",
        "    actual2.append(act2.item())\n",
        "\n",
        "  import matplotlib.pyplot as plt\n",
        "  plt.scatter(actual2,prediction2)\n",
        "  plt.xlabel('Actual PE')\n",
        "  plt.ylabel('Predicted PE')\n",
        "\n",
        "  plt.plot([min,max],[min,max])\n",
        "  plt.xlim(min,max)\n",
        "  plt.ylim(min,max)\n",
        "\n",
        "  plt.show()"
      ],
      "metadata": {
        "id": "fRvB8T1cXIqU"
      },
      "execution_count": 136,
      "outputs": []
    },
    {
      "cell_type": "code",
      "source": [
        "graph2(model,X_valid,y_valid,410,510)"
      ],
      "metadata": {
        "colab": {
          "base_uri": "https://localhost:8080/",
          "height": 279
        },
        "id": "6QElpgBuYMtI",
        "outputId": "5b8e859d-b5fc-4c6d-8250-52558f1bb2cf"
      },
      "execution_count": 137,
      "outputs": [
        {
          "output_type": "display_data",
          "data": {
            "text/plain": [
              "<Figure size 432x288 with 1 Axes>"
            ],
            "image/png": "[encoded data removed]"
          },
          "metadata": {
            "needs_background": "light"
          }
        }
      ]
    },
    {
      "cell_type": "code",
      "source": [
        "#Test Dataset\n",
        "\n",
        "criterion=torch.nn.MSELoss()\n",
        "\n",
        "for epoch in range(5):\n",
        "  totalLoss=0\n",
        "  for i in range(len(X_test)):\n",
        "    ypred=model(X_test[i])\n",
        "    loss3=criterion(ypred,y_test[i])\n",
        "    totalLoss+=loss3.item()\n",
        "    "
      ],
      "metadata": {
        "id": "DxtPlRNxZSDR"
      },
      "execution_count": 138,
      "outputs": []
    },
    {
      "cell_type": "code",
      "source": [
        "@torch.no_grad()\n",
        "def graph3(model,X_test,y_test,min,max):\n",
        "  model.eval()\n",
        "  prediction3=[]\n",
        "  actual3=[]\n",
        "\n",
        "  X_test.to(device)\n",
        "  y_test.to(device)\n",
        "  model.to(device)\n",
        "\n",
        "  for i in range(len(X_test)):\n",
        "    pred3=model(X_test[i])\n",
        "    pred3=pred3*stdPE + meanPE\n",
        "\n",
        "    act3=y_test[i]*stdPE +meanPE\n",
        "\n",
        "    prediction3.append(pred3.tolist())\n",
        "    actual3.append(act3.item())\n",
        "\n",
        "  import matplotlib.pyplot as plt\n",
        "  plt.scatter(actual3,prediction3)\n",
        "  plt.xlabel('Actual PE')\n",
        "  plt.ylabel('Predicted PE')\n",
        "\n",
        "  plt.plot([min,max],[min,max])\n",
        "  plt.xlim(min,max)\n",
        "  plt.ylim(min,max)\n",
        "\n",
        "  plt.show()"
      ],
      "metadata": {
        "id": "VP1KkWzSZZn1"
      },
      "execution_count": 139,
      "outputs": []
    },
    {
      "cell_type": "code",
      "source": [
        "graph3(model,X_test,y_test,410,510)"
      ],
      "metadata": {
        "colab": {
          "base_uri": "https://localhost:8080/",
          "height": 279
        },
        "id": "X1XYwEUVZbh2",
        "outputId": "7092118f-cd98-41ae-8241-613bf9098c29"
      },
      "execution_count": 140,
      "outputs": [
        {
          "output_type": "display_data",
          "data": {
            "text/plain": [
              "<Figure size 432x288 with 1 Axes>"
            ],
            "image/png": "[encoded data removed]"
          },
          "metadata": {
            "needs_background": "light"
          }
        }
      ]
    }
  ]
}