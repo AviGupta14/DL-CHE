{
  "nbformat": 4,
  "nbformat_minor": 0,
  "metadata": {
    "colab": {
      "provenance": []
    },
    "kernelspec": {
      "name": "python3",
      "display_name": "Python 3"
    },
    "language_info": {
      "name": "python"
    }
  },
  "cells": [
    {
      "cell_type": "code",
      "execution_count": 41,
      "metadata": {
        "id": "balgAP6BBPzj"
      },
      "outputs": [],
      "source": [
        "import numpy as np\n",
        "import pandas as pd\n",
        "import os\n",
        "import torch\n",
        "from torch import nn\n",
        "import torch.optim as optim\n",
        "from torch.utils.data import TensorDataset, DataLoader, SubsetRandomSampler"
      ]
    },
    {
      "cell_type": "code",
      "source": [
        "device = torch.device(\"cuda\" if torch.cuda.is_available() else \"cpu\")\n",
        "print(f\"Using {device} device\")"
      ],
      "metadata": {
        "colab": {
          "base_uri": "https://localhost:8080/"
        },
        "id": "UXV7cUWvCm1k",
        "outputId": "08fb7a95-d1c1-42b1-862b-1603bee96559"
      },
      "execution_count": 42,
      "outputs": [
        {
          "output_type": "stream",
          "name": "stdout",
          "text": [
            "Using cpu device\n"
          ]
        }
      ]
    },
    {
      "cell_type": "code",
      "source": [
        "df = pd.read_excel(\"data.xlsx\")"
      ],
      "metadata": {
        "id": "UUXZTYhiBukW"
      },
      "execution_count": 43,
      "outputs": []
    },
    {
      "cell_type": "code",
      "source": [
        "class NeuralNetwork(nn.Module):\n",
        "  def __init__(self):\n",
        "      super().__init__()\n",
        "      self.linear_relu_stack = nn.Sequential(\n",
        "          nn.Linear(4, 32),\n",
        "          nn.ReLU(),\n",
        "          nn.Linear(32, 16),\n",
        "          nn.ReLU(),\n",
        "          nn.Linear(16, 8),\n",
        "          nn.ReLU(),\n",
        "          nn.Linear(8, 4),\n",
        "          nn.ReLU(),\n",
        "          nn.Linear(4, 1),\n",
        "      )\n",
        "\n",
        "  def forward(self, x_tensor):\n",
        "      logits = self.linear_relu_stack(x_tensor)\n",
        "      return logits\n"
      ],
      "metadata": {
        "id": "C-QpnuKFB0q6"
      },
      "execution_count": 53,
      "outputs": []
    },
    {
      "cell_type": "code",
      "source": [
        "model = NeuralNetwork().to(device)\n",
        "print(model)"
      ],
      "metadata": {
        "colab": {
          "base_uri": "https://localhost:8080/"
        },
        "id": "qjYF7VvFIhP3",
        "outputId": "dd4eb86b-f3b2-4787-ab78-83d219ae7092"
      },
      "execution_count": 45,
      "outputs": [
        {
          "output_type": "stream",
          "name": "stdout",
          "text": [
            "NeuralNetwork(\n",
            "  (linear_relu_stack): Sequential(\n",
            "    (0): Linear(in_features=4, out_features=32, bias=True)\n",
            "    (1): ReLU()\n",
            "    (2): Linear(in_features=32, out_features=16, bias=True)\n",
            "    (3): ReLU()\n",
            "    (4): Linear(in_features=16, out_features=8, bias=True)\n",
            "    (5): ReLU()\n",
            "    (6): Linear(in_features=8, out_features=4, bias=True)\n",
            "    (7): ReLU()\n",
            "    (8): Linear(in_features=4, out_features=1, bias=True)\n",
            "  )\n",
            ")\n"
          ]
        }
      ]
    },
    {
      "cell_type": "code",
      "source": [
        "# Prepare data\n",
        "x = df.drop(columns=['PE'])\n",
        "y = df.drop(columns=['AT', 'V', 'AP', 'RH'])\n",
        "x_tensor = torch.tensor(x.values, dtype=torch.float32)\n",
        "y_tensor = torch.tensor(y.values, dtype=torch.float32)\n",
        "dataset = TensorDataset(x_tensor, y_tensor)"
      ],
      "metadata": {
        "id": "5Kxadz8RIh5Z"
      },
      "execution_count": 46,
      "outputs": []
    },
    {
      "cell_type": "code",
      "source": [
        "# Split data into train and validation sets\n",
        "num_samples = len(dataset)\n",
        "indices = list(range(num_samples))\n",
        "split = int(num_samples * 0.8)\n",
        "np.random.shuffle(indices)\n",
        "train_indices, val_indices = indices[:split], indices[split:]\n",
        "train_sampler = SubsetRandomSampler(train_indices)\n",
        "val_sampler = SubsetRandomSampler(val_indices)"
      ],
      "metadata": {
        "id": "3CttCdN0Iksl"
      },
      "execution_count": 47,
      "outputs": []
    },
    {
      "cell_type": "code",
      "source": [
        "# Define data loaders\n",
        "train_loader = DataLoader(dataset, batch_size=32, sampler=train_sampler)\n",
        "val_loader = DataLoader(dataset, batch_size=32, sampler=val_sampler)"
      ],
      "metadata": {
        "id": "bI2IcLC4ImvK"
      },
      "execution_count": 48,
      "outputs": []
    },
    {
      "cell_type": "code",
      "source": [
        "# Define loss function and optimizer\n",
        "loss_fn = nn.MSELoss()\n",
        "optimizer = optim.Adam(model.parameters(), lr=1e-3)"
      ],
      "metadata": {
        "id": "vmQPUwVzIo6J"
      },
      "execution_count": 49,
      "outputs": []
    },
    {
      "cell_type": "code",
      "source": [
        "# Train the model\n",
        "def train(dataloader, model, loss_fn, optimizer):\n",
        "  model.train()\n",
        "  for batch, (x, y) in enumerate(dataloader):\n",
        "      x, y = x.to(device), y.to(device)\n",
        "      optimizer.zero_grad()\n",
        "      pred = model(x)\n",
        "      loss = loss_fn(pred, y)\n",
        "      loss.backward()\n",
        "      optimizer.step()\n",
        "      if batch % 100 == 0:\n",
        "          print(f\"Batch {batch}: Loss={loss.item()}\")"
      ],
      "metadata": {
        "id": "eJOnLRbNIq6e"
      },
      "execution_count": 50,
      "outputs": []
    },
    {
      "cell_type": "code",
      "source": [
        "def test(dataloader, model, loss_fn):\n",
        "  model.eval()\n",
        "  total_loss = 0\n",
        "  with torch.no_grad():\n",
        "      for x, y in dataloader:\n",
        "          x, y = x.to(device), y.to(device)\n",
        "          pred = model(x)\n",
        "          total_loss += loss_fn(pred, y).item()\n",
        "  avg_loss = total_loss / len(dataloader)\n",
        "  print(f\"Average test loss: {avg_loss}\")"
      ],
      "metadata": {
        "id": "RM_tCzF5Ivsb"
      },
      "execution_count": 51,
      "outputs": []
    },
    {
      "cell_type": "code",
      "source": [
        "num_epochs = 15\n",
        "for epoch in range(num_epochs):\n",
        "    print(f\"Epoch {epoch+1}\")\n",
        "    train(train_loader, model, loss_fn, optimizer)\n",
        "    test(val_loader, model, loss_fn)"
      ],
      "metadata": {
        "colab": {
          "base_uri": "https://localhost:8080/"
        },
        "id": "QaA52k-TCU0_",
        "outputId": "08ca3838-a3b3-44ec-c851-db6376b97986"
      },
      "execution_count": 54,
      "outputs": [
        {
          "output_type": "stream",
          "name": "stdout",
          "text": [
            "Epoch 1\n",
            "Batch 0: Loss=25.775529861450195\n",
            "Batch 100: Loss=16.492204666137695\n",
            "Batch 200: Loss=34.06134033203125\n",
            "Average test loss: 34.727431027094525\n",
            "Epoch 2\n",
            "Batch 0: Loss=36.72966003417969\n",
            "Batch 100: Loss=30.777759552001953\n",
            "Batch 200: Loss=13.370613098144531\n",
            "Average test loss: 29.817786820729573\n",
            "Epoch 3\n",
            "Batch 0: Loss=39.329715728759766\n",
            "Batch 100: Loss=23.4320125579834\n",
            "Batch 200: Loss=31.13399887084961\n",
            "Average test loss: 28.5551087697347\n",
            "Epoch 4\n",
            "Batch 0: Loss=21.97455596923828\n",
            "Batch 100: Loss=22.577489852905273\n",
            "Batch 200: Loss=14.564311981201172\n",
            "Average test loss: 29.41618183453878\n",
            "Epoch 5\n",
            "Batch 0: Loss=25.909555435180664\n",
            "Batch 100: Loss=40.76198196411133\n",
            "Batch 200: Loss=32.941959381103516\n",
            "Average test loss: 27.775770902633667\n",
            "Epoch 6\n",
            "Batch 0: Loss=29.54888916015625\n",
            "Batch 100: Loss=24.849246978759766\n",
            "Batch 200: Loss=39.74842834472656\n",
            "Average test loss: 27.298509311676025\n",
            "Epoch 7\n",
            "Batch 0: Loss=16.56965446472168\n",
            "Batch 100: Loss=14.243182182312012\n",
            "Batch 200: Loss=25.838008880615234\n",
            "Average test loss: 26.832995430628458\n",
            "Epoch 8\n",
            "Batch 0: Loss=31.538795471191406\n",
            "Batch 100: Loss=42.557918548583984\n",
            "Batch 200: Loss=27.43242645263672\n",
            "Average test loss: 30.883667214711508\n",
            "Epoch 9\n",
            "Batch 0: Loss=28.106664657592773\n",
            "Batch 100: Loss=18.8403263092041\n",
            "Batch 200: Loss=28.99055290222168\n",
            "Average test loss: 27.215550311406453\n",
            "Epoch 10\n",
            "Batch 0: Loss=29.219249725341797\n",
            "Batch 100: Loss=25.10626792907715\n",
            "Batch 200: Loss=24.585163116455078\n",
            "Average test loss: 26.979174502690633\n",
            "Epoch 11\n",
            "Batch 0: Loss=88.97325134277344\n",
            "Batch 100: Loss=16.54582977294922\n",
            "Batch 200: Loss=27.071048736572266\n",
            "Average test loss: 27.113399934768676\n",
            "Epoch 12\n",
            "Batch 0: Loss=40.191017150878906\n",
            "Batch 100: Loss=29.428964614868164\n",
            "Batch 200: Loss=17.105684280395508\n",
            "Average test loss: 34.807482624053954\n",
            "Epoch 13\n",
            "Batch 0: Loss=41.50117874145508\n",
            "Batch 100: Loss=24.413686752319336\n",
            "Batch 200: Loss=22.20166015625\n",
            "Average test loss: 28.395345656077065\n",
            "Epoch 14\n",
            "Batch 0: Loss=22.063491821289062\n",
            "Batch 100: Loss=17.562564849853516\n",
            "Batch 200: Loss=73.80227661132812\n",
            "Average test loss: 50.19018971125285\n",
            "Epoch 15\n",
            "Batch 0: Loss=55.16326141357422\n",
            "Batch 100: Loss=21.046295166015625\n",
            "Batch 200: Loss=21.083057403564453\n",
            "Average test loss: 34.42817440032959\n"
          ]
        }
      ]
    }
  ]
}