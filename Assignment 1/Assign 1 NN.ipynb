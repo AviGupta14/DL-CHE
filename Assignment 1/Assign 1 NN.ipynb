{
 "cells": [
  {
   "cell_type": "code",
   "execution_count": 1,
   "metadata": {},
   "outputs": [],
   "source": [
    "\n",
    "import torch\n",
    "import torch.nn as nn\n",
    "import pandas as pd\n",
    "from sklearn.preprocessing import StandardScaler\n",
    "from sklearn.model_selection import train_test_split"
   ]
  },
  {
   "cell_type": "code",
   "execution_count": 5,
   "metadata": {},
   "outputs": [
    {
     "data": {
      "text/html": [
       "<div>\n",
       "<style scoped>\n",
       "    .dataframe tbody tr th:only-of-type {\n",
       "        vertical-align: middle;\n",
       "    }\n",
       "\n",
       "    .dataframe tbody tr th {\n",
       "        vertical-align: top;\n",
       "    }\n",
       "\n",
       "    .dataframe thead th {\n",
       "        text-align: right;\n",
       "    }\n",
       "</style>\n",
       "<table border=\"1\" class=\"dataframe\">\n",
       "  <thead>\n",
       "    <tr style=\"text-align: right;\">\n",
       "      <th></th>\n",
       "      <th>AT</th>\n",
       "      <th>V</th>\n",
       "      <th>AP</th>\n",
       "      <th>RH</th>\n",
       "      <th>PE</th>\n",
       "    </tr>\n",
       "  </thead>\n",
       "  <tbody>\n",
       "    <tr>\n",
       "      <th>0</th>\n",
       "      <td>14.96</td>\n",
       "      <td>41.76</td>\n",
       "      <td>1024.07</td>\n",
       "      <td>73.17</td>\n",
       "      <td>463.26</td>\n",
       "    </tr>\n",
       "    <tr>\n",
       "      <th>1</th>\n",
       "      <td>25.18</td>\n",
       "      <td>62.96</td>\n",
       "      <td>1020.04</td>\n",
       "      <td>59.08</td>\n",
       "      <td>444.37</td>\n",
       "    </tr>\n",
       "    <tr>\n",
       "      <th>2</th>\n",
       "      <td>5.11</td>\n",
       "      <td>39.40</td>\n",
       "      <td>1012.16</td>\n",
       "      <td>92.14</td>\n",
       "      <td>488.56</td>\n",
       "    </tr>\n",
       "    <tr>\n",
       "      <th>3</th>\n",
       "      <td>20.86</td>\n",
       "      <td>57.32</td>\n",
       "      <td>1010.24</td>\n",
       "      <td>76.64</td>\n",
       "      <td>446.48</td>\n",
       "    </tr>\n",
       "    <tr>\n",
       "      <th>4</th>\n",
       "      <td>10.82</td>\n",
       "      <td>37.50</td>\n",
       "      <td>1009.23</td>\n",
       "      <td>96.62</td>\n",
       "      <td>473.90</td>\n",
       "    </tr>\n",
       "  </tbody>\n",
       "</table>\n",
       "</div>"
      ],
      "text/plain": [
       "      AT      V       AP     RH      PE\n",
       "0  14.96  41.76  1024.07  73.17  463.26\n",
       "1  25.18  62.96  1020.04  59.08  444.37\n",
       "2   5.11  39.40  1012.16  92.14  488.56\n",
       "3  20.86  57.32  1010.24  76.64  446.48\n",
       "4  10.82  37.50  1009.23  96.62  473.90"
      ]
     },
     "execution_count": 5,
     "metadata": {},
     "output_type": "execute_result"
    }
   ],
   "source": [
    "df=pd.read_excel(\"combined.xlsx\")\n",
    "\n",
    "df.head()"
   ]
  },
  {
   "cell_type": "code",
   "execution_count": 6,
   "metadata": {},
   "outputs": [
    {
     "data": {
      "text/plain": [
       "(47840, 5)"
      ]
     },
     "execution_count": 6,
     "metadata": {},
     "output_type": "execute_result"
    }
   ],
   "source": [
    "df.shape"
   ]
  },
  {
   "cell_type": "code",
   "execution_count": 9,
   "metadata": {},
   "outputs": [],
   "source": [
    "train, test = train_test_split(df, test_size=0.2, random_state=42)\n",
    "train, val = train_test_split(train, test_size=0.25, random_state=42)\n",
    "\n",
    "\n",
    "scaler_x = StandardScaler()\n",
    "scaler_y = StandardScaler()\n",
    "\n",
    "train_x = scaler_x.fit_transform(train.iloc[:,:-1].values)\n",
    "train_y = scaler_y.fit_transform(train.iloc[:,-1].values.reshape(-1,1))\n",
    "\n",
    "val_x = scaler_x.transform(val.iloc[:,:-1].values)\n",
    "val_y = scaler_y.transform(val.iloc[:,-1].values.reshape(-1,1))\n",
    "\n",
    "test_x = scaler_x.transform(test.iloc[:,:-1].values)\n",
    "test_y = scaler_y.transform(test.iloc[:,-1].values.reshape(-1,1))"
   ]
  },
  {
   "cell_type": "code",
   "execution_count": 10,
   "metadata": {},
   "outputs": [
    {
     "data": {
      "text/plain": [
       "array([[ 1.28458868,  1.56703203, -0.26703263, -0.05892276],\n",
       "       [-0.81269777, -0.99184572,  1.41444384, -0.71268882],\n",
       "       [ 1.36087797,  1.35110955, -0.53943182, -0.99845449],\n",
       "       ...,\n",
       "       [ 1.96985393,  1.85126454, -0.57474282, -1.05327764],\n",
       "       [ 0.07600561,  0.26600091,  0.5098095 ,  0.31044821],\n",
       "       [ 0.09072811,  0.24558642,  0.18696602,  0.66679869]])"
      ]
     },
     "execution_count": 10,
     "metadata": {},
     "output_type": "execute_result"
    }
   ],
   "source": [
    "train_x\n"
   ]
  },
  {
   "cell_type": "code",
   "execution_count": 11,
   "metadata": {},
   "outputs": [
    {
     "data": {
      "text/plain": [
       "array([[-1.6221037 ],\n",
       "       [ 1.02173861],\n",
       "       [-1.28738836],\n",
       "       ...,\n",
       "       [-1.36858458],\n",
       "       [-0.09573164],\n",
       "       [-0.11792917]])"
      ]
     },
     "execution_count": 11,
     "metadata": {},
     "output_type": "execute_result"
    }
   ],
   "source": [
    "train_y"
   ]
  },
  {
   "cell_type": "code",
   "execution_count": 24,
   "metadata": {},
   "outputs": [],
   "source": [
    "class Net(nn.Module):\n",
    "    def __init__(self):\n",
    "        super(Net,self).__init__()\n",
    "        self.fc1 = nn.Linear(4,36)\n",
    "        self.fc2 = nn.Linear(36,69)\n",
    "        self.fc3 = nn.Linear(69,10)\n",
    "        self.fc4 = nn.Linear(10,1)\n",
    "    def forward(self,x):\n",
    "        x = torch.relu(self.fc1(x))\n",
    "        x = torch.relu(self.fc2(x))\n",
    "        x = torch.relu(self.fc3(x))\n",
    "        x=self.fc4(x)\n",
    "        return x\n"
   ]
  },
  {
   "cell_type": "code",
   "execution_count": 25,
   "metadata": {},
   "outputs": [],
   "source": [
    "net = Net()\n",
    "criterion = nn.MSELoss()\n",
    "optimizer = torch.optim.Adam(net.parameters(), lr=0.01)"
   ]
  },
  {
   "cell_type": "code",
   "execution_count": 26,
   "metadata": {},
   "outputs": [
    {
     "name": "stdout",
     "output_type": "stream",
     "text": [
      "Epoch: 0, Loss: 1.1432256698608398, Validation Loss: 0.9493564367294312\n",
      "Epoch: 69, Loss: 0.060140594840049744, Validation Loss: 0.059607017785310745\n",
      "Epoch: 138, Loss: 0.057907767593860626, Validation Loss: 0.05746256560087204\n",
      "Epoch: 207, Loss: 0.0566716231405735, Validation Loss: 0.056320350617170334\n",
      "Epoch: 276, Loss: 0.055623091757297516, Validation Loss: 0.05529699847102165\n",
      "Epoch: 345, Loss: 0.05449569225311279, Validation Loss: 0.05430310219526291\n",
      "Epoch: 414, Loss: 0.05308057367801666, Validation Loss: 0.052947767078876495\n",
      "Epoch: 483, Loss: 0.05128920078277588, Validation Loss: 0.051235537976026535\n",
      "Epoch: 552, Loss: 0.050168175250291824, Validation Loss: 0.05028075352311134\n",
      "Epoch: 621, Loss: 0.04874332621693611, Validation Loss: 0.04864150285720825\n"
     ]
    }
   ],
   "source": [
    "for epoch in range(690):\n",
    "    optimizer.zero_grad()\n",
    "    outputs = net(torch.Tensor(train_x))\n",
    "    loss = criterion(outputs, torch.Tensor(train_y))\n",
    "    loss.backward()\n",
    "    optimizer.step()\n",
    "\n",
    "    if epoch % 69 == 0:\n",
    "        val_outputs = net(torch.Tensor(val_x))\n",
    "        val_loss = criterion(val_outputs, torch.Tensor(val_y))\n",
    "        print(\"Epoch: {}, Loss: {}, Validation Loss: {}\".format(epoch, loss.item(), val_loss.item()))"
   ]
  },
  {
   "cell_type": "code",
   "execution_count": 27,
   "metadata": {},
   "outputs": [
    {
     "name": "stdout",
     "output_type": "stream",
     "text": [
      "tensor([[-1.1920],\n",
      "        [ 0.7842],\n",
      "        [-0.8981],\n",
      "        ...,\n",
      "        [-1.3967],\n",
      "        [ 0.3131],\n",
      "        [ 1.5847]], grad_fn=<AddmmBackward0>)\n"
     ]
    }
   ],
   "source": [
    "test_outputs = net(torch.Tensor(test_x))\n",
    "print(test_outputs)"
   ]
  },
  {
   "cell_type": "code",
   "execution_count": 28,
   "metadata": {},
   "outputs": [
    {
     "name": "stdout",
     "output_type": "stream",
     "text": [
      "Test loss: 0.04818805679678917\n"
     ]
    }
   ],
   "source": [
    "test_loss = criterion(test_outputs,torch.Tensor(test_y))\n",
    "print(f\"Test loss: {test_loss.item()}\")"
   ]
  },
  {
   "cell_type": "code",
   "execution_count": null,
   "metadata": {},
   "outputs": [],
   "source": []
  }
 ],
 "metadata": {
  "kernelspec": {
   "display_name": "Python 3",
   "language": "python",
   "name": "python3"
  },
  "language_info": {
   "codemirror_mode": {
    "name": "ipython",
    "version": 3
   },
   "file_extension": ".py",
   "mimetype": "text/x-python",
   "name": "python",
   "nbconvert_exporter": "python",
   "pygments_lexer": "ipython3",
   "version": "3.10.5"
  },
  "orig_nbformat": 4
 },
 "nbformat": 4,
 "nbformat_minor": 2
}
